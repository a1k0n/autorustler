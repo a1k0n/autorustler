{
 "cells": [
  {
   "cell_type": "code",
   "execution_count": 469,
   "metadata": {
    "collapsed": true
   },
   "outputs": [],
   "source": [
    "import numpy as np\n",
    "import matplotlib.pyplot as plt\n",
    "import cv2\n",
    "import gzip\n",
    "%matplotlib inline\n",
    "np.set_printoptions(suppress=True)"
   ]
  },
  {
   "cell_type": "code",
   "execution_count": 473,
   "metadata": {
    "collapsed": true
   },
   "outputs": [],
   "source": [
    "# state formulation:\n",
    "# w, v, Cv, Tv, Cs, Ts, mu_s, mu_g, mu_ax, mu_ay\n",
    "def initial_state(ye, psie, w, v, k, Cv, Tv, Cs, Ts, mu_s, mu_g, mu_ax, mu_ay):\n",
    "    return np.float32([ye, psie, w, v, k, Cv, Tv, Cs, Ts, mu_s, mu_g, mu_ax, mu_ay])\n",
    "\n",
    "#x = initial_state(0, 0, 0, 0, 0, 100, 1, 0.5, 0.5)\n",
    "x = initial_state(5, -0.1, 0.01, 5, 0.01, 2, 0, -0.3, -0.3, 0, 0, 0, 0)"
   ]
  },
  {
   "cell_type": "code",
   "execution_count": 764,
   "metadata": {
    "collapsed": false
   },
   "outputs": [],
   "source": [
    "from numpy import exp, sin, cos, tan\n",
    "\n",
    "def f(x, u, dt=1.0/30):\n",
    "    ''' state prediction given input; returns new state and covariance '''\n",
    "    ye, psie, w, v, k, Cv, Tv, Cs, Ts, mu_s, mu_g, mu_ax, mu_ay = x\n",
    "    u_acceleration, u_steering = u\n",
    "    \n",
    "    eCv, eTv, eCs, eTs = exp(Cv), exp(Tv), exp(Cs), exp(Ts)\n",
    "\n",
    "    x1 = np.float32([\n",
    "            ye - dt*v * sin(psie),\n",
    "            psie + dt*(w + v * k * cos(psie) / (1 - k * ye)),\n",
    "            w + dt*(v*eCs*(u_steering - mu_s) - w) / eTs,  # fixme: this should be clipped at some traction limit\n",
    "            v + dt*(eCv * u_acceleration - v) / eTv,\n",
    "            k, Cv, Tv, Cs, Ts, mu_s, mu_g, mu_ax, mu_ay\n",
    "        ])\n",
    "    \n",
    "    F = np.float32([\n",
    "[1, -dt*v*cos(psie), 0, -dt*sin(psie), 0, 0, 0, 0, 0, 0, 0, 0, 0], [dt*k**2*v*cos(psie)/(k*ye - 1)**2, (dt*k*v*sin(psie) + k*ye - 1)/(k*ye - 1), dt, -dt*k*cos(psie)/(k*ye - 1), dt*v*cos(psie)/(k*ye - 1)**2, 0, 0, 0, 0, 0, 0, 0, 0], [0, 0, -dt*exp(-Ts) + 1, -dt*(mu_s - u_steering)*exp(Cs - Ts), 0, 0, 0, -dt*v*(mu_s - u_steering)*exp(Cs - Ts), dt*(v*(mu_s - u_steering)*exp(Cs) + w)*exp(-Ts), -dt*v*exp(Cs - Ts), 0, 0, 0], [0, 0, 0, -dt*exp(-Tv) + 1, 0, dt*u_acceleration*exp(Cv - Tv), dt*(-u_acceleration*exp(Cv) + v)*exp(-Tv), 0, 0, 0, 0, 0, 0], [0, 0, 0, 0, 1, 0, 0, 0, 0, 0, 0, 0, 0], [0, 0, 0, 0, 0, 1, 0, 0, 0, 0, 0, 0, 0], [0, 0, 0, 0, 0, 0, 1, 0, 0, 0, 0, 0, 0], [0, 0, 0, 0, 0, 0, 0, 1, 0, 0, 0, 0, 0], [0, 0, 0, 0, 0, 0, 0, 0, 1, 0, 0, 0, 0], [0, 0, 0, 0, 0, 0, 0, 0, 0, 1, 0, 0, 0], [0, 0, 0, 0, 0, 0, 0, 0, 0, 0, 1, 0, 0], [0, 0, 0, 0, 0, 0, 0, 0, 0, 0, 0, 1, 0], [0, 0, 0, 0, 0, 0, 0, 0, 0, 0, 0, 0, 1]        ])\n",
    "    \n",
    "    return x1, F\n",
    "\n",
    "x[3] = 100  # give a velocity boost as nothing interesting happens at v=0\n",
    "tx, tF = f(x, [0, 1])"
   ]
  },
  {
   "cell_type": "code",
   "execution_count": null,
   "metadata": {
    "collapsed": false
   },
   "outputs": [],
   "source": []
  },
  {
   "cell_type": "code",
   "execution_count": 765,
   "metadata": {
    "collapsed": false
   },
   "outputs": [
    {
     "data": {
      "text/plain": [
       "(array([-0.88472074,  0.26407698], dtype=float32),\n",
       " array([[-1.03428078, -0.2336344 ,  0.        ,  0.        ,  0.        ,\n",
       "          0.        ,  0.        ,  0.        ,  0.        ,  0.        ,\n",
       "          0.        ,  0.        ,  0.        ],\n",
       "        [ 0.        ,  1.06973672,  0.        ,  0.        ,  0.        ,\n",
       "          0.        ,  0.        ,  0.        ,  0.        ,  0.        ,\n",
       "          0.        ,  0.        ,  0.        ]], dtype=float32))"
      ]
     },
     "execution_count": 765,
     "metadata": {},
     "output_type": "execute_result"
    }
   ],
   "source": [
    "def h_centerline(x):\n",
    "    ''' return predicted centerline intercept and slope given state '''\n",
    "    ye, psie, w, v, k, Cv, Tv, Cs, Ts, mu_s, mu_g, mu_ax, mu_ay = x\n",
    "    hk = np.float32([ye / np.cos(psie), np.tan(psie)])\n",
    "    Hk = np.float32([[1./cos(psie), ye*sin(psie)/cos(psie)**2, 0, 0, 0, 0, 0, 0, 0, 0, 0, 0, 0],\n",
    "                     [0, cos(psie)**(-2), 0, 0, 0, 0, 0, 0, 0, 0, 0, 0, 0]])\n",
    "    return hk, Hk\n",
    "\n",
    "h_centerline(x)"
   ]
  },
  {
   "cell_type": "code",
   "execution_count": 766,
   "metadata": {
    "collapsed": false
   },
   "outputs": [
    {
     "data": {
      "text/plain": [
       "(array([  -0.63187838, -689.18054199,    7.2599802 ], dtype=float32),\n",
       " array([[   0.        ,    0.        ,    1.        ,    0.        ,\n",
       "            0.        ,    0.        ,    0.        ,    0.        ,\n",
       "            0.        ,    0.        ,    1.        ,    0.        ,    0.        ],\n",
       "        [   0.        ,    0.        ,  100.        ,   -6.95474291,\n",
       "            0.        ,    0.        ,    0.        ,    0.        ,\n",
       "            0.        ,    0.        ,    0.        ,    1.        ,    0.        ],\n",
       "        [   0.        ,    0.        ,    0.        ,    0.00966034,\n",
       "            0.        ,    0.        ,   -0.96603382,    0.        ,\n",
       "            0.        ,    0.        ,    0.        ,    0.        ,    1.        ]], dtype=float32))"
      ]
     },
     "execution_count": 766,
     "metadata": {},
     "output_type": "execute_result"
    }
   ],
   "source": [
    "def h_imu(x, u):\n",
    "    ''' return predicted IMU measurements from state '''\n",
    "    ye, psie, w, v, k, Cv, Tv, Cs, Ts, mu_s, mu_g, mu_ax, mu_ay = x\n",
    "    u_acceleration, u_steering = u\n",
    "    \n",
    "    # we need to steal the acceleration input here; this just shortcuts having an explicit\n",
    "    # acceleration held in the state\n",
    "\n",
    "    hk = np.float32([\n",
    "            w + mu_g,\n",
    "            v*w + mu_ax,\n",
    "            -(exp(Cv) * u_acceleration - v) / exp(Tv) + mu_ay,\n",
    "        ])\n",
    "    Hk = np.float32([\n",
    "            [0, 0, 1, 0, 0, 0, 0, 0, 0, 0, 1, 0, 0],\n",
    "            [0, 0, v, w, 0, 0, 0, 0, 0, 0, 0, 1, 0],\n",
    "            [0, 0, 0, exp(-Tv), 0, -u_acceleration*exp(Cv - Tv), (u_acceleration*exp(Cv) - v)*exp(-Tv), 0, 0, 0, 0, 0, 1]\n",
    "        ])\n",
    "    return hk, Hk\n",
    "\n",
    "h_imu(x, [0, 0])"
   ]
  },
  {
   "cell_type": "code",
   "execution_count": 767,
   "metadata": {
    "collapsed": false
   },
   "outputs": [
    {
     "name": "stdout",
     "output_type": "stream",
     "text": [
      "(240, 320, 2) (240, 320)\n"
     ]
    }
   ],
   "source": [
    "# 2480x2048 camera matrix -> 640x480 * 4 -> 320x240 * 8\n",
    "camera_matrix = np.float32([\n",
    "    [  1.13826615e+03,  0.00000000e+00,  1.31095665e+03],\n",
    "    [  0.00000000e+00,  1.13236467e+03,  9.29698331e+02],\n",
    "    [  0.00000000e+00,  0.00000000e+00,  1.00000000e+00]])\n",
    "\n",
    "dist_coeffs = np.float32([-0.01789552, 0, 0, 0])\n",
    "\n",
    "# approximate scale conversion to cm\n",
    "units_per_cm = 2.364 / 20.\n",
    "\n",
    "camera_matrix[:2] /= 8.\n",
    "\n",
    "new_camera_matrix = np.float32([\n",
    "        [-20, 0, 160],\n",
    "        [0, 20, 240],\n",
    "        [0, 0, 1]\n",
    "    ])\n",
    "\n",
    "Rdown = cv2.Rodrigues(np.float32([-np.pi/2 - 0.075, 0, 0]))[0]\n",
    "#Rdown = cv2.Rodrigues(np.float32([-0.075, 0, 0]))[0]\n",
    "udm1, udm2 = cv2.fisheye.initUndistortRectifyMap(\n",
    "    camera_matrix, dist_coeffs, Rdown, new_camera_matrix, (320, 240), cv2.CV_16SC2)\n",
    "print udm1.shape, udm2.shape\n",
    "# udm1, udm2 are reverse lookups: udm1[y, x] is the location of the pixel in the camera image\n",
    "# which maps to x, y in the target image\n",
    "\n",
    "# undistort_map is the forward lookup: undistort_map[y, x] contains the virtual pinhole camera\n",
    "# coordinate of the real fisheye camera pixel x, y\n",
    "undistort_map = cv2.fisheye.undistortPoints(\n",
    "    np.mgrid[:320, :240].T.astype(np.float32),\n",
    "    camera_matrix, dist_coeffs)\n",
    "\n",
    "#undistort_map /= 20. / 2.4  # change unit length to cm\n"
   ]
  },
  {
   "cell_type": "code",
   "execution_count": 768,
   "metadata": {
    "collapsed": false
   },
   "outputs": [
    {
     "name": "stdout",
     "output_type": "stream",
     "text": [
      "120\n",
      "[-2.43728185  0.05662939]\n"
     ]
    },
    {
     "data": {
      "image/png": "[encoded data removed]",
      "text/plain": [
       "<matplotlib.figure.Figure at 0x120492d10>"
      ]
     },
     "metadata": {},
     "output_type": "display_data"
    }
   ],
   "source": [
    "ytop = 120\n",
    "print ytop\n",
    "print undistort_map[ytop, 0]\n",
    "udplane = np.dot(np.concatenate([undistort_map, np.ones((240, 320, 1))], axis=2), Rdown.T)[ytop:]\n",
    "\n",
    "udplane[:, :, 0] /= udplane[:, :, 2]\n",
    "udplane[:, :, 1] /= udplane[:, :, 2]\n",
    "#udplane[:, :, :2] *= 10\n",
    "plt.imshow((udplane[:, :, 0]%1) + (udplane[:, :, 1]%1), 'gray')\n",
    "np.savetxt(\"udplane.txt\", udplane[:, :, :2].reshape(-1), newline=\",\\n\")\n"
   ]
  },
  {
   "cell_type": "code",
   "execution_count": 769,
   "metadata": {
    "collapsed": false
   },
   "outputs": [
    {
     "name": "stdout",
     "output_type": "stream",
     "text": [
      "(240, 320, 2) (240, 320)\n"
     ]
    }
   ],
   "source": [
    "udm1, udm2 = cv2.fisheye.initUndistortRectifyMap(\n",
    "    camera_matrix, dist_coeffs, Rdown, new_camera_matrix, (320, 240), cv2.CV_16SC2)\n",
    "print udm1.shape, udm2.shape\n"
   ]
  },
  {
   "cell_type": "code",
   "execution_count": null,
   "metadata": {
    "collapsed": false
   },
   "outputs": [],
   "source": []
  },
  {
   "cell_type": "code",
   "execution_count": null,
   "metadata": {
    "collapsed": true
   },
   "outputs": [],
   "source": []
  },
  {
   "cell_type": "code",
   "execution_count": 918,
   "metadata": {
    "collapsed": false
   },
   "outputs": [],
   "source": [
    "def kalman_update_input(x0, P, u, dt):\n",
    "    x, Fk_1 = f(x0, controls, dt)\n",
    "    print >>kalman_log, 'f', x0[:4], '->', x[:4]\n",
    "    #Q = np.diag([v*dt*0.001, v*dt*0.00001, v*dt*0.001, dt*0.1, v*dt*0.01, 0, 0, 0, 0])**2  # process noise\n",
    "    \n",
    "    v = 0.5 + np.abs(x[3])  # use velocity to determine process noise magnitudes\n",
    "    Qk_1 = np.diag([  # process noise\n",
    "            v*dt*0.1,  # ye shouldn't jitter much at all\n",
    "            v*dt*0.01,  # neither should psie\n",
    "            v*dt*0.2,  # angular steering should mostly be correct from controls but give it slack\n",
    "            dt*0.001,   # same with velocity\n",
    "            v*dt*0.001,  # curvature can change nearly instantaneously, but its scale is tiny\n",
    "            1e-4, 1e-4, 1e-4, 1e-4, 1e-4, 1e-4, 1e-4, 1e-4])  # the remainder are undetermined constants\n",
    "    # print >>kalman_log, 'Q', np.diag(Qk_1)\n",
    "    \n",
    "    # print >>kalman_log, 'F\\n', Fk_1\n",
    "    P = np.dot(Fk_1, np.dot(P, Fk_1.T)) + Qk_1\n",
    "    # print >>kalman_log, 'Qk\\n', Qk_1\n",
    "    # print >>kalman_log, 'predict P\\n', P\n",
    "\n",
    "    return x, P\n",
    "   "
   ]
  },
  {
   "cell_type": "code",
   "execution_count": 1000,
   "metadata": {
    "collapsed": true
   },
   "outputs": [],
   "source": [
    "def kalman_update_cam(img, x, P, mask, dt):\n",
    "    N = len(nz[0])\n",
    "    if N < 20:\n",
    "        return x, P\n",
    "\n",
    "    # measure line slope / position\n",
    "    nzt = udplane[(nz[0], nz[1])]  # undistort coordinates\n",
    "    X = np.vstack([np.ones(N), nzt[:,1]]).T  # 1, screen y is X\n",
    "    y = nzt[:,0]   # screen x coords are y in our regression\n",
    "    B = np.linalg.solve(np.dot(X.T, X), np.dot(X.T, y))\n",
    "    r2 = np.dot(B.T, np.dot(np.dot(X.T, X), B)) - 2*np.dot(np.dot(X, B).T, y) + np.dot(y.T, y)\n",
    "    # r2 /= N\n",
    "    Rk = np.linalg.inv(np.dot(X.T, X)) * r2\n",
    "    Rk[1, 1] += 0.01  # slope is just iffy in general\n",
    "    pts = np.float32([[B[0], 0, 1], [B[0]-10*B[1], -10, 1]]).T\n",
    "    p = np.dot(new_camera_matrix, pts)\n",
    "    # draw instantaneous line fit\n",
    "    cv2.line(img, (int(p[0, 0]), int(p[1, 0])),\n",
    "             (int(p[0, 1]), int(p[1, 1])),\n",
    "             (255, 255, 255))\n",
    "    cv2.putText(img, \"b%0.3f m%0.3f r%0.4f\" % (B[0], B[1], r2), (0, 239), cv2.FONT_HERSHEY_SIMPLEX, 0.5, (255,255,255), 1)\n",
    "\n",
    "    # kalman update from line parameters B\n",
    "    z_k, H_k = h_centerline(x)    \n",
    "    y_k = (B - z_k)\n",
    "    S = np.dot(H_k, np.dot(P, H_k.T)) + Rk\n",
    "    K = np.dot(P, np.dot(H_k.T, np.linalg.inv(S)))\n",
    "    print >>kalman_log, 'mb_K\\n', K\n",
    "    print >>kalman_log, 'y_k', y_k, 'pred', z_k, 'meas', B\n",
    "    #print 'K[0]', K[:, 0]\n",
    "    #print 'K[1]', K[:, 1]\n",
    "    x += np.dot(K, y_k)\n",
    "\n",
    "    KHk = np.dot(K, H_k)\n",
    "    P = np.dot((np.eye(len(x)) - KHk), P)\n",
    "    # print x[:4]\n",
    "    # print np.diag(P)[:4]\n",
    "    \n",
    "    return x, P\n"
   ]
  },
  {
   "cell_type": "code",
   "execution_count": 1001,
   "metadata": {
    "collapsed": true
   },
   "outputs": [],
   "source": [
    "def kalman_update_imu(x, P, u, accel, gyro, dt):\n",
    "    z_k, H_k = h_imu(x, u)\n",
    "    # convert accelerometer gs to cm/s^2\n",
    "    accel = 980 * units_per_cm * accel\n",
    "    y_k = np.float32([gyro[2], accel[0], accel[1]]) - z_k\n",
    "\n",
    "    # accelerometer measurements are hugely noisy, almost not even worth it\n",
    "    Rk = np.diag([1e-2, units_per_cm*200, units_per_cm*200])**2  # measure the actual noise?\n",
    "    \n",
    "    S = np.dot(H_k, np.dot(P, H_k.T)) + Rk\n",
    "    K = np.dot(P, np.dot(H_k.T, np.linalg.inv(S)))\n",
    "    print >>kalman_log, 'imu K\\n', K\n",
    "    print >>kalman_log, 'imu y_k', y_k, 'pred', z_k, 'meas', y_k + z_k\n",
    "    x += np.dot(K, y_k)\n",
    "\n",
    "    KHk = np.dot(K, H_k)\n",
    "    P = np.dot((np.eye(len(x)) - KHk), P)\n",
    "\n",
    "    return x, P\n"
   ]
  },
  {
   "cell_type": "code",
   "execution_count": 1036,
   "metadata": {
    "collapsed": false
   },
   "outputs": [],
   "source": [
    "capture = open(\"home05-13-10-0.yuv\")  # gzip.open(\"driveway4-1.yuv.gz\")\n",
    "\n",
    "x = initial_state(0, 0, 0, 0, 0, np.log(10), 0, np.log(0.3), np.log(0.5), 0, 0, 0, 0)\n",
    "P = np.diag([5, 1, 0.1, 0.1, 0.01, 1, 0.1, 0.1, 0.1, 0.1, 0.01, 0.01, 0.01])**2\n",
    "\n",
    "write_video = False\n",
    "\n",
    "if write_video:\n",
    "    out = cv2.VideoWriter(\"ekf.h264\", cv2.VideoWriter_fourcc(\n",
    "          'X', '2', '6', '4'), 30, (640, 480), True)\n",
    "\n",
    "kalman_log = open(\"kalman.log\", \"w\")\n",
    "    \n",
    "prev_ts = None\n",
    "while True:\n",
    "    fhdr = 36\n",
    "    fsize = fhdr + 640*480 + 320*240*2\n",
    "    frame = np.frombuffer(capture.read(fsize), np.uint8)\n",
    "    if len(frame) < fsize:\n",
    "        break\n",
    "    tstamp = np.frombuffer(np.getbuffer(frame[:8]), np.uint32)\n",
    "    controls = np.frombuffer(np.getbuffer(frame[8:12]), np.uint16)\n",
    "    accel = np.frombuffer(np.getbuffer(frame[12:24]), np.float32)\n",
    "    gyro = np.frombuffer(np.getbuffer(frame[24:36]), np.float32)\n",
    "    # FIXME: bug workaround: gyro full scale was off by a factor of 4\n",
    "    # gyro = gyro * 4.0   # not needed with driveway4+\n",
    "    ts = tstamp[0] + tstamp[1] / 1000000.0\n",
    "\n",
    "    # hack because i forgot to save autodrive throttle\n",
    "    # if controls[0] == 614 and controls[1] != 655:\n",
    "    #     controls = [700, controls[1]]\n",
    "    controls = np.float32(controls) / 204.8 - 3.0\n",
    "    # controls[1] = controls[1] - 6500/32768.0  # steering is backwards and has a trim value of ~6500\n",
    "    # but we want backwards steering as we have w as counterclockwise\n",
    "\n",
    "    y = frame[fhdr:fhdr+640*480]\n",
    "    u = frame[fhdr+640*480:fhdr+640*480+320*240]\n",
    "    v = frame[fhdr+640*480+320*240:]\n",
    "    img = cv2.cvtColor(frame[fhdr:].reshape((-1, 640)), cv2.COLOR_YUV420P2RGB)\n",
    "    \n",
    "    mask = ((u[ytop*320:] < U_THRESH) & (v[ytop*320:] > V_THRESH)).reshape(-1, 320)\n",
    "    nz = np.nonzero(mask)\n",
    "    \n",
    "    img[2*ytop+nz[0]*2, nz[1]*2, 0] = 255\n",
    "    img[2*ytop+nz[0]*2, nz[1]*2, 1] = 255\n",
    "    img[2*ytop+nz[0]*2, nz[1]*2, 2] = 0\n",
    "    #img[mask, 2] = 255\n",
    "    \n",
    "    birdseye = cv2.remap(img[::2,::2], udm1, udm2, cv2.INTER_LINEAR)  #, borderMode=cv2.BORDER_CONSTANT, borderValue=(255,255,255))\n",
    "\n",
    "    img[:240, :320] = birdseye\n",
    "    \n",
    "    dt = 1.0/30\n",
    "    if prev_ts is not None:\n",
    "        dt = ts - prev_ts\n",
    "    prev_ts = ts\n",
    "\n",
    "    x, P = kalman_update_input(x, P, controls, dt)\n",
    "    \n",
    "    x, P = kalman_update_cam(img, x, P, nz, dt)\n",
    "    \n",
    "    x, P = kalman_update_imu(x, P, controls, accel, gyro, dt)\n",
    "    \n",
    "    # if psi went backwards, fix it... or don't, cuz we're going backwards i guess?\n",
    "    if x[1] > np.pi / 2:\n",
    "        x[1] -= np.pi\n",
    "    elif x[1] < -np.pi / 2:\n",
    "        x[1] += np.pi\n",
    "    x[3] = np.abs(x[3])  # (v) dumb hack: keep us from going backwards when we're confused\n",
    "    x[4] = np.clip(x[4], -0.3, 0.3)\n",
    "\n",
    "    print >>kalman_log, 'x', x\n",
    "    print >>kalman_log, 'P', np.diag(P)\n",
    "    kalman_log.flush()\n",
    "    \n",
    "    # plot new line with measurement from kalman state\n",
    "    B, _ = h_centerline(x)\n",
    "    pts = np.float32([[B[0], 0, 1], [B[0]-10*B[1], -10, 1]]).T\n",
    "    p = np.dot(new_camera_matrix, pts)\n",
    "    # draw kalman line fit\n",
    "    cv2.line(img, (int(p[0, 0]), int(p[1, 0])),\n",
    "             (int(p[0, 1]), int(p[1, 1])),\n",
    "             (0, 255, 0))\n",
    "    \n",
    "    # plot circle of assumed curvature\n",
    "    # center is at\n",
    "    if x[4] != 0:\n",
    "        t = np.linspace(0, 10, 10)\n",
    "        r = 1.0/x[4]\n",
    "\n",
    "        # cos(a+b) = cosa cosb - sina sinb\n",
    "        # cos(x1)*cos(x4*t)/x4 - sin(x1)*sin(x4*t)/x4 - cos(x1)\n",
    "        # cos(x1)*(cos(x4*t) - 1)/x4 - sin(x1)*sin(x4*t)/x4\n",
    "        # ^ more numerically stable when x4 is nearly zero\n",
    "        \n",
    "        # sin(a+b) = sina cosb + cosa sinb\n",
    "        # sin(x1) - sin(x1 - x4*t)\n",
    "        # sin(x1) - sin(x1) cos(x4*t) - cos(x1) sin(x4*t)\n",
    "        # sin(x1)*(1 - cos(x4*t)) - cos(x1) sin(x4*t)\n",
    "                \n",
    "        pts = np.vstack([\n",
    "                #r*(np.cos(x[1] + x[4]*t) - np.cos(x[1])) + x[0],\n",
    "                r*(np.cos(x[1])*(np.cos(x[4]*t) - 1) - np.sin(x[1])*np.sin(x[4]*t)) + x[0],\n",
    "                #r*(-np.sin(x[1] + x[4]*t) + np.sin(x[1])),\n",
    "                r*(np.sin(x[1])*(1 - np.cos(x[4]*t)) - np.cos(x[1])*np.sin(x[4]*t)),\n",
    "                np.ones(10)])\n",
    "        p = np.dot(new_camera_matrix, pts)\n",
    "        for i in range(0, 9):\n",
    "            cv2.line(img, (int(p[0, i]), int(p[1, i])),\n",
    "                     (int(p[0, i+1]), int(p[1, i+1])),\n",
    "                     (255, 255, 0))\n",
    "    \n",
    "    # draw projection of predicted velocity\n",
    "    \n",
    "    # draw a five-frame prediction\n",
    "    pts = np.float32([[0, -1, 1],\n",
    "                      [5*dt*x[3]*np.sin(5*dt*x[2]),\n",
    "                       -1 - 5*dt*x[3]*np.cos(5*dt*x[2]), 1]]).T\n",
    "    p = np.dot(new_camera_matrix, pts)\n",
    "    cv2.line(img, (int(p[0, 0]), int(p[1, 0])),\n",
    "             (int(p[0, 1]), int(p[1, 1])),\n",
    "             (0, 0, 255))\n",
    "\n",
    "    cv2.putText(img, \"y%0.2f psi%0.2f w%0.2f v%0.2f k%0.2f\" % tuple(x[:5]), (0, 270),\n",
    "                cv2.FONT_HERSHEY_SIMPLEX, 0.6, (255,255,255), 1)\n",
    "\n",
    "    cv2.putText(img, \"Cv%0.2f Tv%0.2f Cs%0.2f Ts%0.2f\" % tuple(np.exp(x[5:9])), (0, 290),\n",
    "                cv2.FONT_HERSHEY_SIMPLEX, 0.6, (255,255,255), 1)\n",
    "    \n",
    "    cv2.putText(img, \"a%0.2f s%0.2f\" % tuple(controls), (0, 310),\n",
    "                cv2.FONT_HERSHEY_SIMPLEX, 0.6, (255,255,255), 1)\n",
    "\n",
    "    cv2.putText(img, \"us%0.4f ug%0.4f uax%0.4f uay%0.4f\" % tuple(x[9:13]), (0, 330),\n",
    "                cv2.FONT_HERSHEY_SIMPLEX, 0.6, (255,255,255), 1)\n",
    "    \n",
    "    # show ytop\n",
    "    cv2.line(img, (0, ytop*2), (640, ytop*2), (0,0,0), 1)\n",
    "    \n",
    "    # show controls\n",
    "    cv2.line(img, (320, 470), (int(320 + 300*controls[0]), 470), (0,0,0), 4)\n",
    "    cv2.line(img, (320, 470), (int(320 + 300*controls[0]), 470), (255,255,255), 2)\n",
    "    cv2.line(img, (320, 475), (int(320 + 300*controls[1]), 475), (0,0,0), 4)\n",
    "    cv2.line(img, (320, 475), (int(320 + 300*controls[1]), 475), (255,255,255), 2)\n",
    "    # show accelerometer measurement\n",
    "    cv2.line(img, (50, 440), (int(50 + 10*accel[0]), int(440 - 100*accel[1])), (0,0,0), 4)\n",
    "    cv2.line(img, (50, 440), (int(50 + 10*accel[0]), int(440 - 100*accel[1])), (0,255,255), 2)\n",
    "    # show gyro\n",
    "    cv2.line(img, (320, 460), (int(320 + 320*gyro[2]), 460), (0,0,0), 4)\n",
    "    cv2.line(img, (320, 460), (int(320 + 320*gyro[2]), 460), (255,255,0), 2)\n",
    "\n",
    "\n",
    "    cv2.imshow('f', img)\n",
    "    if write_video:\n",
    "        out.write(img)\n",
    "        \n",
    "    if cv2.waitKey() == ord('q'):\n",
    "        break\n",
    "\n",
    "if write_video:\n",
    "    del out\n",
    "\n",
    "cv2.destroyAllWindows()\n",
    "cv2.waitKey(1)\n",
    "\n",
    "kalman_log.close()\n",
    "del kalman_log"
   ]
  },
  {
   "cell_type": "code",
   "execution_count": 1029,
   "metadata": {
    "collapsed": false
   },
   "outputs": [],
   "source": [
    "U_THRESH = 112\n",
    "V_THRESH = 0"
   ]
  },
  {
   "cell_type": "code",
   "execution_count": 897,
   "metadata": {
    "collapsed": false
   },
   "outputs": [
    {
     "ename": "NameError",
     "evalue": "global name 'kalman_log' is not defined",
     "output_type": "error",
     "traceback": [
      "\u001b[0;31m---------------------------------------------------------------------------\u001b[0m",
      "\u001b[0;31mNameError\u001b[0m                                 Traceback (most recent call last)",
      "\u001b[0;32m<ipython-input-897-e7abeb8ad3d9>\u001b[0m in \u001b[0;36m<module>\u001b[0;34m()\u001b[0m\n\u001b[1;32m      2\u001b[0m \u001b[0mP\u001b[0m \u001b[0;34m=\u001b[0m \u001b[0mnp\u001b[0m\u001b[0;34m.\u001b[0m\u001b[0mdiag\u001b[0m\u001b[0;34m(\u001b[0m\u001b[0;34m[\u001b[0m\u001b[0;36m5\u001b[0m\u001b[0;34m,\u001b[0m \u001b[0;36m1\u001b[0m\u001b[0;34m,\u001b[0m \u001b[0;36m0.1\u001b[0m\u001b[0;34m,\u001b[0m \u001b[0;36m0.1\u001b[0m\u001b[0;34m,\u001b[0m \u001b[0;36m0.01\u001b[0m\u001b[0;34m,\u001b[0m \u001b[0;36m1\u001b[0m\u001b[0;34m,\u001b[0m \u001b[0;36m0.1\u001b[0m\u001b[0;34m,\u001b[0m \u001b[0;36m0.1\u001b[0m\u001b[0;34m,\u001b[0m \u001b[0;36m0.1\u001b[0m\u001b[0;34m,\u001b[0m \u001b[0;36m0.1\u001b[0m\u001b[0;34m,\u001b[0m \u001b[0;36m0.01\u001b[0m\u001b[0;34m,\u001b[0m \u001b[0;36m0.01\u001b[0m\u001b[0;34m,\u001b[0m \u001b[0;36m0.01\u001b[0m\u001b[0;34m]\u001b[0m\u001b[0;34m)\u001b[0m\u001b[0;34m**\u001b[0m\u001b[0;36m2\u001b[0m\u001b[0;34m\u001b[0m\u001b[0m\n\u001b[1;32m      3\u001b[0m \u001b[0;34m\u001b[0m\u001b[0m\n\u001b[0;32m----> 4\u001b[0;31m \u001b[0mx\u001b[0m\u001b[0;34m,\u001b[0m \u001b[0mP\u001b[0m \u001b[0;34m=\u001b[0m \u001b[0mkalman_update_input\u001b[0m\u001b[0;34m(\u001b[0m\u001b[0mx\u001b[0m\u001b[0;34m,\u001b[0m \u001b[0mP\u001b[0m\u001b[0;34m,\u001b[0m \u001b[0;34m[\u001b[0m\u001b[0;36m1\u001b[0m\u001b[0;34m,\u001b[0m \u001b[0;36m1\u001b[0m\u001b[0;34m]\u001b[0m\u001b[0;34m,\u001b[0m \u001b[0;36m1.0\u001b[0m\u001b[0;34m/\u001b[0m\u001b[0;36m30\u001b[0m\u001b[0;34m)\u001b[0m\u001b[0;34m\u001b[0m\u001b[0m\n\u001b[0m\u001b[1;32m      5\u001b[0m \u001b[0;32mprint\u001b[0m \u001b[0mx\u001b[0m\u001b[0;34m\u001b[0m\u001b[0m\n\u001b[1;32m      6\u001b[0m \u001b[0;32mprint\u001b[0m \u001b[0mP\u001b[0m\u001b[0;34m\u001b[0m\u001b[0m\n",
      "\u001b[0;32m<ipython-input-893-614fc18a40c8>\u001b[0m in \u001b[0;36mkalman_update_input\u001b[0;34m(x0, P, u, dt)\u001b[0m\n\u001b[1;32m      1\u001b[0m \u001b[0;32mdef\u001b[0m \u001b[0mkalman_update_input\u001b[0m\u001b[0;34m(\u001b[0m\u001b[0mx0\u001b[0m\u001b[0;34m,\u001b[0m \u001b[0mP\u001b[0m\u001b[0;34m,\u001b[0m \u001b[0mu\u001b[0m\u001b[0;34m,\u001b[0m \u001b[0mdt\u001b[0m\u001b[0;34m)\u001b[0m\u001b[0;34m:\u001b[0m\u001b[0;34m\u001b[0m\u001b[0m\n\u001b[1;32m      2\u001b[0m     \u001b[0mx\u001b[0m\u001b[0;34m,\u001b[0m \u001b[0mFk_1\u001b[0m \u001b[0;34m=\u001b[0m \u001b[0mf\u001b[0m\u001b[0;34m(\u001b[0m\u001b[0mx0\u001b[0m\u001b[0;34m,\u001b[0m \u001b[0mcontrols\u001b[0m\u001b[0;34m,\u001b[0m \u001b[0mdt\u001b[0m\u001b[0;34m)\u001b[0m\u001b[0;34m\u001b[0m\u001b[0m\n\u001b[0;32m----> 3\u001b[0;31m     \u001b[0;32mprint\u001b[0m \u001b[0;34m>>\u001b[0m\u001b[0mkalman_log\u001b[0m\u001b[0;34m,\u001b[0m \u001b[0;34m'f'\u001b[0m\u001b[0;34m,\u001b[0m \u001b[0mx0\u001b[0m\u001b[0;34m[\u001b[0m\u001b[0;34m:\u001b[0m\u001b[0;36m4\u001b[0m\u001b[0;34m]\u001b[0m\u001b[0;34m,\u001b[0m \u001b[0;34m'->'\u001b[0m\u001b[0;34m,\u001b[0m \u001b[0mx\u001b[0m\u001b[0;34m[\u001b[0m\u001b[0;34m:\u001b[0m\u001b[0;36m4\u001b[0m\u001b[0;34m]\u001b[0m\u001b[0;34m\u001b[0m\u001b[0m\n\u001b[0m\u001b[1;32m      4\u001b[0m     \u001b[0;31m#Q = np.diag([v*dt*0.001, v*dt*0.00001, v*dt*0.001, dt*0.1, v*dt*0.01, 0, 0, 0, 0])**2  # process noise\u001b[0m\u001b[0;34m\u001b[0m\u001b[0;34m\u001b[0m\u001b[0m\n\u001b[1;32m      5\u001b[0m \u001b[0;34m\u001b[0m\u001b[0m\n",
      "\u001b[0;31mNameError\u001b[0m: global name 'kalman_log' is not defined"
     ]
    }
   ],
   "source": [
    "x = initial_state(0, 0, 0, 0, 0, np.log(10), 0, np.log(0.3), np.log(0.5), 0, 0, 0, 0)\n",
    "P = np.diag([5, 1, 0.1, 0.1, 0.01, 1, 0.1, 0.1, 0.1, 0.1, 0.01, 0.01, 0.01])**2\n",
    "\n",
    "x, P = kalman_update_input(x, P, [1, 1], 1.0/30)\n",
    "print x\n",
    "print P"
   ]
  },
  {
   "cell_type": "code",
   "execution_count": null,
   "metadata": {
    "collapsed": true
   },
   "outputs": [],
   "source": []
  },
  {
   "cell_type": "code",
   "execution_count": null,
   "metadata": {
    "collapsed": true
   },
   "outputs": [],
   "source": []
  }
 ],
 "metadata": {
  "kernelspec": {
   "display_name": "Python 2",
   "language": "python",
   "name": "python2"
  },
  "language_info": {
   "codemirror_mode": {
    "name": "ipython",
    "version": 2
   },
   "file_extension": ".py",
   "mimetype": "text/x-python",
   "name": "python",
   "nbconvert_exporter": "python",
   "pygments_lexer": "ipython2",
   "version": "2.7.10"
  }
 },
 "nbformat": 4,
 "nbformat_minor": 0
}
