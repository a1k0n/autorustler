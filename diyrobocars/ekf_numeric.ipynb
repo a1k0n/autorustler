{
 "cells": [
  {
   "cell_type": "code",
   "execution_count": 2,
   "metadata": {
    "collapsed": true
   },
   "outputs": [],
   "source": [
    "import numpy as np\n",
    "import matplotlib.pyplot as plt\n",
    "import cv2\n",
    "import gzip\n",
    "%matplotlib inline\n",
    "np.set_printoptions(suppress=True)"
   ]
  },
  {
   "cell_type": "code",
   "execution_count": 3,
   "metadata": {
    "collapsed": false
   },
   "outputs": [],
   "source": [
    "# state formulation:\n",
    "# ye, psie, w, v, Cv, Tv, Cs, Ts, mu_s, mu_g, mu_ax, mu_ay\n",
    "def initial_state(ye, psie, w, v, k, Cv, Tv, Cs, Ts, mu_s, mu_g, mu_ax, mu_ay):\n",
    "    return np.float32([ye, psie, w, v, k, Cv, Tv, Cs, Ts, mu_s, mu_g, mu_ax, mu_ay])\n",
    "\n",
    "#x = initial_state(0, 0, 0, 0, 0, 100, 1, 0.5, 0.5)\n",
    "x = initial_state(5, -0.1, 0.01, 5, 0.01, 2, 0, -0.3, -0.3, 0, 0, 0, 0)\n"
   ]
  },
  {
   "cell_type": "code",
   "execution_count": 4,
   "metadata": {
    "collapsed": false
   },
   "outputs": [
    {
     "data": {
      "text/plain": [
       "array([ 5.01663876, -0.09792104,  0.00955005,  4.83333349,  0.01      ,\n",
       "        2.        ,  0.        , -0.30000001, -0.30000001,  0.        ,\n",
       "        0.        ,  0.        ,  0.        ], dtype=float32)"
      ]
     },
     "execution_count": 4,
     "metadata": {},
     "output_type": "execute_result"
    }
   ],
   "source": [
    "from numpy import exp, sin, cos, tan\n",
    "\n",
    "def kalman_update_input(x0, P, u, dt):\n",
    "    ''' state prediction given input; returns new state and covariance '''\n",
    "    ye, psie, w, v, k, Cv, Tv, Cs, Ts, mu_s, mu_g, mu_ax, mu_ay = x0\n",
    "    u_acceleration, u_steering = u\n",
    "    \n",
    "    eCv, eTv, eCs, eTs = exp(Cv), exp(Tv), exp(Cs), exp(Ts)\n",
    "\n",
    "    # k_est, k_var, k_grad = curvature_mean_grad_var(s, P[0, 0])\n",
    "\n",
    "    x = np.float32([\n",
    "            ye - dt*v * sin(psie),\n",
    "            psie + dt*(w + v * k * cos(psie) / (1 - k * ye)),\n",
    "            w + dt*(v*eCs*(u_steering - mu_s) - w) / eTs,\n",
    "            v + dt*(eCv * u_acceleration - v) / eTv,\n",
    "            k, Cv, Tv, Cs, Ts, mu_s, mu_g, mu_ax, mu_ay\n",
    "        ])\n",
    "    \n",
    "    Fk_1 = np.float32([\n",
    "            [1, -dt*v*cos(psie), 0, -dt*sin(psie), 0, 0, 0, 0, 0, 0, 0, 0, 0],\n",
    "            [dt*k**2*v*cos(psie)/(k*ye - 1)**2, (dt*k*v*sin(psie) + k*ye - 1)/(k*ye - 1), dt, -dt*k*cos(psie)/(k*ye - 1), dt*v*cos(psie)/(k*ye - 1)**2, 0, 0, 0, 0, 0, 0, 0, 0],\n",
    "            [0, 0, -dt*exp(-Ts) + 1, -dt*(mu_s - u_steering)*exp(Cs - Ts), 0, 0, 0, -dt*v*(mu_s - u_steering)*exp(Cs - Ts), dt*(v*(mu_s - u_steering)*exp(Cs) + w)*exp(-Ts), -dt*v*exp(Cs - Ts), 0, 0, 0],\n",
    "            [0, 0, 0, -dt*exp(-Tv) + 1, 0, dt*u_acceleration*exp(Cv - Tv), dt*(-u_acceleration*exp(Cv) + v)*exp(-Tv), 0, 0, 0, 0, 0, 0],\n",
    "            [0, 0, 0, 0, 1, 0, 0, 0, 0, 0, 0, 0, 0],\n",
    "            [0, 0, 0, 0, 0, 1, 0, 0, 0, 0, 0, 0, 0],\n",
    "            [0, 0, 0, 0, 0, 0, 1, 0, 0, 0, 0, 0, 0],\n",
    "            [0, 0, 0, 0, 0, 0, 0, 1, 0, 0, 0, 0, 0],\n",
    "            [0, 0, 0, 0, 0, 0, 0, 0, 1, 0, 0, 0, 0],\n",
    "            [0, 0, 0, 0, 0, 0, 0, 0, 0, 1, 0, 0, 0],\n",
    "            [0, 0, 0, 0, 0, 0, 0, 0, 0, 0, 1, 0, 0],\n",
    "            [0, 0, 0, 0, 0, 0, 0, 0, 0, 0, 0, 1, 0],\n",
    "            [0, 0, 0, 0, 0, 0, 0, 0, 0, 0, 0, 0, 1]])\n",
    "\n",
    "    # print >>kalman_log, 'f', x0[:5], '->', x[:5]\n",
    "    #Q = np.diag([v*dt*0.001, v*dt*0.00001, v*dt*0.001, dt*0.1, v*dt*0.01, 0, 0, 0, 0])**2  # process noise\n",
    "\n",
    "    v = 0.5 + np.abs(x[3])  # use velocity to determine process noise magnitudes\n",
    "    Qk_1 = np.diag([  # process noise\n",
    "            v*dt*0.1,  # ye shouldn't jitter much at all unless we are skidding\n",
    "            v*dt*0.1,  # neither should psie\n",
    "            v*dt*0.2,  # angular steering should mostly be correct from controls but give it slack\n",
    "            dt*0.006,   # same with velocity\n",
    "            v*dt*0.1,  # curvature distribution was computed above\n",
    "            1e-4, 1e-4, 1e-4, 1e-4, 1e-4, 1e-4, 1e-4, 1e-4])  # the remainder are undetermined constants\n",
    "    # print >>kalman_log, 'Q', np.diag(Qk_1)\n",
    "    \n",
    "    # print >>kalman_log, 'F\\n', Fk_1\n",
    "    P = np.dot(Fk_1, np.dot(P, Fk_1.T)) + Qk_1\n",
    "    # print >>kalman_log, 'Qk\\n', Qk_1\n",
    "    # print >>kalman_log, 'predict P\\n', P\n",
    "\n",
    "    return x, P\n",
    "\n",
    "kalman_update_input(x, np.eye(len(x)), [0, 0], 1.0/30)[0]"
   ]
  },
  {
   "cell_type": "code",
   "execution_count": null,
   "metadata": {
    "collapsed": false
   },
   "outputs": [],
   "source": []
  },
  {
   "cell_type": "code",
   "execution_count": 5,
   "metadata": {
    "collapsed": false
   },
   "outputs": [
    {
     "data": {
      "text/plain": [
       "(array([ 5.0049367 , -0.10033467, -0.02      ], dtype=float32),\n",
       " array([[ 1.00502086, -0.70924342,  0.        ,  0.        ,  0.        ,\n",
       "          0.        ,  0.        ,  0.        ,  0.        ,  0.        ,\n",
       "          0.        ,  0.        ,  0.        ],\n",
       "        [ 0.        ,  1.01006699,  0.        ,  0.        ,  0.        ,\n",
       "          0.        ,  0.        ,  0.        ,  0.        ,  0.        ,\n",
       "          0.        ,  0.        ,  0.        ],\n",
       "        [ 0.        ,  0.        ,  0.        ,  0.        , -2.        ,\n",
       "          0.        ,  0.        ,  0.        ,  0.        ,  0.        ,\n",
       "          0.        ,  0.        ,  0.        ]], dtype=float32))"
      ]
     },
     "execution_count": 5,
     "metadata": {},
     "output_type": "execute_result"
    }
   ],
   "source": [
    "def h_centerline(x):\n",
    "    ''' return predicted centerline intercept and slope given state '''\n",
    "    ye, psie, w, v, k, Cv, Tv, Cs, Ts, mu_s, mu_g, mu_ax, mu_ay = x\n",
    "    x_CG = 0.20  # CG is about 20cm behind camera\n",
    "    hk = np.float32([(ye + x_CG*np.tan(psie)) / np.cos(psie), np.tan(psie), -2*k])\n",
    "    Hk = np.float32([\n",
    "            [1/cos(psie), (x_CG - 2*x_CG/cos(psie)**2 + ye*tan(psie))/cos(psie), 0, 0, 0, 0, 0, 0, 0, 0, 0, 0, 0],\n",
    "            [0, cos(psie)**(-2), 0, 0, 0, 0, 0, 0, 0, 0, 0, 0, 0],\n",
    "            [0, 0, 0, 0, -2, 0, 0, 0, 0, 0, 0, 0, 0]\n",
    "        ])\n",
    "    return hk, Hk\n",
    "\n",
    "h_centerline(x)"
   ]
  },
  {
   "cell_type": "code",
   "execution_count": 6,
   "metadata": {
    "collapsed": false
   },
   "outputs": [
    {
     "data": {
      "text/plain": [
       "(array([ 0.01,  0.05,  5.  ], dtype=float32),\n",
       " array([[ 0.  ,  0.  ,  1.  ,  0.  ,  0.  ,  0.  ,  0.  ,  0.  ,  0.  ,\n",
       "          0.  ,  1.  ,  0.  ,  0.  ],\n",
       "        [ 0.  ,  0.  ,  5.  ,  0.01,  0.  ,  0.  ,  0.  ,  0.  ,  0.  ,\n",
       "          0.  ,  0.  ,  1.  ,  0.  ],\n",
       "        [ 0.  ,  0.  ,  0.  ,  1.  ,  0.  ,  0.  , -5.  ,  0.  ,  0.  ,\n",
       "          0.  ,  0.  ,  0.  ,  1.  ]], dtype=float32))"
      ]
     },
     "execution_count": 6,
     "metadata": {},
     "output_type": "execute_result"
    }
   ],
   "source": [
    "def h_imu(x, u):\n",
    "    ''' return predicted IMU measurements from state '''\n",
    "    ye, psie, w, v, k, Cv, Tv, Cs, Ts, mu_s, mu_g, mu_ax, mu_ay = x\n",
    "    u_acceleration, u_steering = u\n",
    "    \n",
    "    # we need to steal the acceleration input here; this just shortcuts having an explicit\n",
    "    # acceleration held in the state\n",
    "\n",
    "    hk = np.float32([\n",
    "            w + mu_g,\n",
    "            v*w + mu_ax,\n",
    "            -(exp(Cv) * u_acceleration - v) / exp(Tv) + mu_ay,\n",
    "        ])\n",
    "    Hk = np.float32([\n",
    "            [0, 0, 1, 0, 0, 0, 0, 0, 0, 0, 1, 0, 0],\n",
    "            [0, 0, v, w, 0, 0, 0, 0, 0, 0, 0, 1, 0],\n",
    "            [0, 0, 0, exp(-Tv), 0, -u_acceleration*exp(Cv - Tv), (u_acceleration*exp(Cv) - v)*exp(-Tv), 0, 0, 0, 0, 0, 1]\n",
    "        ])\n",
    "    return hk, Hk\n",
    "\n",
    "h_imu(x, [0, 0])"
   ]
  },
  {
   "cell_type": "code",
   "execution_count": 7,
   "metadata": {
    "collapsed": false
   },
   "outputs": [
    {
     "name": "stdout",
     "output_type": "stream",
     "text": [
      "(240, 320, 2) (240, 320)\n"
     ]
    }
   ],
   "source": [
    "# 2560x1920 camera matrix -> 640x480 * 4 -> 320x240 * 8\n",
    "#camera_matrix = np.float32([\n",
    "#    [  1.32671284e+03,  0.00000000e+00,  1.17056274e+03],\n",
    "#    [  0.00000000e+00,  1.32325908e+03,  8.93906010e+02],\n",
    "#    [  0.00000000e+00,  0.00000000e+00,  1.00000000e+00]])\n",
    "#\n",
    "#dist_coeffs = np.float32([-0.02673142, 0, 0, 0])\n",
    "\n",
    "camera_matrix = np.float32([\n",
    "    [  1.07384901e+03,  0.00000000e+00,  1.22267553e+03],\n",
    "    [  0.00000000e+00,  1.06616220e+03,  9.42042213e+02],\n",
    "    [  0.00000000e+00,  0.00000000e+00,  1.00000000e+00]])\n",
    "\n",
    "dist_coeffs = np.float32([-0.02081262, 0, 0, 0])\n",
    "\n",
    "camera_matrix[:2] /= 8.\n",
    "\n",
    "new_camera_matrix = np.float32([  # ~1mm/pixel on ground\n",
    "        [-143, 0, 160],\n",
    "        [0, 143, 240],\n",
    "        [0, 0, 1]\n",
    "    ])\n",
    "\n",
    "birdseye_camera_matrix = np.copy(new_camera_matrix)  # 1m on ground per unit\n",
    "birdseye_camera_matrix[:2, :2] *= 0.1\n",
    "\n",
    "m_to_birdseye_matrix = np.float32([  # from meter scale to 100px/meter scale\n",
    "        [-100, 0, 160],\n",
    "        [0, 100, 240],\n",
    "        [0, 0, 1]\n",
    "    ])\n",
    "\n",
    "\n",
    "# camera is now angled down about 0.30 radians\n",
    "Rdown = cv2.Rodrigues(np.float32([-np.pi/2 - 0.30, 0, 0]))[0]\n",
    "\n",
    "#Rdown = cv2.Rodrigues(np.float32([-0.075, 0, 0]))[0]\n",
    "udm1, udm2 = cv2.fisheye.initUndistortRectifyMap(\n",
    "    camera_matrix, dist_coeffs, Rdown, new_camera_matrix, (320, 240), cv2.CV_16SC2)\n",
    "print udm1.shape, udm2.shape\n",
    "# udm1, udm2 are reverse lookups: udm1[y, x] is the location of the pixel in the camera image\n",
    "# which maps to x, y in the target image\n",
    "\n",
    "# undistort_map is the forward lookup: undistort_map[y, x] contains the virtual pinhole camera\n",
    "# coordinate of the real fisheye camera pixel x, y\n",
    "undistort_map = cv2.fisheye.undistortPoints(\n",
    "    np.mgrid[:320, :240].T.astype(np.float32),\n",
    "    camera_matrix, dist_coeffs)\n",
    "\n",
    "#undistort_map /= 20. / 2.4  # change unit length to cm\n"
   ]
  },
  {
   "cell_type": "code",
   "execution_count": 17,
   "metadata": {
    "collapsed": false
   },
   "outputs": [
    {
     "name": "stdout",
     "output_type": "stream",
     "text": [
      "90\n",
      "[-2.47723508 -0.45311818]\n"
     ]
    },
    {
     "data": {
      "image/png": "[encoded data removed]",
      "text/plain": [
       "<matplotlib.figure.Figure at 0x115f2ded0>"
      ]
     },
     "metadata": {},
     "output_type": "display_data"
    },
    {
     "data": {
      "image/png": "[encoded data removed]",
      "text/plain": [
       "<matplotlib.figure.Figure at 0x1152f5890>"
      ]
     },
     "metadata": {},
     "output_type": "display_data"
    }
   ],
   "source": [
    "#ytop = 67\n",
    "ytop = 90\n",
    "print ytop\n",
    "print undistort_map[ytop, 0]\n",
    "udplane = np.dot(np.concatenate([undistort_map, np.ones((240, 320, 1))], axis=2), Rdown.T)[ytop:]\n",
    "\n",
    "udplane[:, :, 0] /= udplane[:, :, 2]\n",
    "udplane[:, :, 1] /= udplane[:, :, 2]\n",
    "udplane[:, :, :2] *= new_camera_matrix[1,1] / 1000.  # udplane is now in cm\n",
    "udmask = (udplane[:, :, 1] < 1) & (np.sqrt(udplane[:, :, 0]**2 + udplane[:, :, 1]**2) < 5)\n",
    "plt.imshow(udmask, cmap='gray')\n",
    "plt.show()\n",
    "#print udplane[-1]\n",
    "udplane[udmask^True, :] = 0\n",
    "plt.imshow((udplane[:, :, 0]%1) + (udplane[:, :, 1]%1), 'gray')\n",
    "np.savetxt(\"udplane.txt\", udplane[:, :, :2].reshape(-1), newline=\",\\n\")\n",
    "np.savetxt(\"udmask.txt\", udmask.reshape(-1), newline=\",\\n\")\n"
   ]
  },
  {
   "cell_type": "code",
   "execution_count": 342,
   "metadata": {
    "collapsed": false
   },
   "outputs": [
    {
     "data": {
      "text/plain": [
       "array([ True,  True,  True,  True,  True,  True,  True,  True,  True,\n",
       "        True,  True,  True,  True,  True,  True,  True,  True,  True,\n",
       "        True,  True,  True,  True,  True,  True,  True,  True,  True,\n",
       "        True,  True,  True,  True,  True,  True,  True,  True,  True,\n",
       "        True,  True,  True,  True,  True,  True,  True,  True,  True,\n",
       "        True,  True,  True,  True,  True,  True,  True,  True,  True,\n",
       "        True,  True,  True,  True,  True,  True,  True,  True,  True,\n",
       "        True,  True,  True,  True,  True,  True,  True,  True,  True,\n",
       "        True,  True,  True,  True,  True,  True,  True,  True,  True,\n",
       "        True,  True,  True,  True,  True,  True,  True,  True,  True,\n",
       "        True,  True,  True,  True,  True,  True,  True,  True,  True,\n",
       "        True,  True,  True,  True,  True,  True,  True,  True,  True,\n",
       "        True,  True,  True,  True,  True,  True,  True,  True,  True,\n",
       "        True,  True,  True,  True,  True,  True,  True,  True,  True,\n",
       "        True,  True,  True,  True,  True,  True,  True,  True,  True,\n",
       "        True,  True,  True,  True,  True,  True,  True,  True,  True,\n",
       "        True,  True,  True,  True,  True,  True,  True,  True,  True,\n",
       "        True,  True,  True,  True,  True,  True,  True,  True,  True,\n",
       "        True,  True,  True,  True,  True,  True,  True,  True,  True,\n",
       "        True,  True,  True,  True,  True,  True,  True,  True,  True,\n",
       "        True,  True,  True,  True,  True,  True,  True,  True,  True,\n",
       "        True,  True,  True,  True,  True,  True,  True,  True,  True,\n",
       "        True,  True,  True,  True,  True,  True,  True,  True,  True,\n",
       "        True,  True,  True,  True,  True,  True,  True,  True,  True,\n",
       "        True,  True,  True,  True,  True,  True,  True,  True,  True,\n",
       "        True,  True,  True,  True,  True,  True,  True,  True,  True,\n",
       "        True,  True,  True,  True,  True,  True,  True,  True,  True,\n",
       "        True,  True,  True,  True,  True,  True,  True,  True,  True,\n",
       "        True,  True,  True,  True,  True,  True,  True,  True,  True,\n",
       "        True,  True,  True,  True,  True,  True,  True,  True,  True,\n",
       "        True,  True,  True,  True,  True,  True,  True,  True,  True,\n",
       "        True,  True,  True,  True,  True,  True,  True,  True,  True,\n",
       "        True,  True,  True,  True,  True,  True,  True,  True,  True,\n",
       "        True,  True,  True,  True,  True,  True,  True,  True,  True,\n",
       "        True,  True,  True,  True,  True,  True,  True,  True,  True,\n",
       "        True,  True,  True,  True,  True], dtype=bool)"
      ]
     },
     "execution_count": 342,
     "metadata": {},
     "output_type": "execute_result"
    }
   ],
   "source": [
    "udmask[0]"
   ]
  },
  {
   "cell_type": "code",
   "execution_count": 343,
   "metadata": {
    "collapsed": false
   },
   "outputs": [
    {
     "name": "stdout",
     "output_type": "stream",
     "text": [
      "(240, 320, 2) (240, 320)\n"
     ]
    }
   ],
   "source": [
    "udm1, udm2 = cv2.fisheye.initUndistortRectifyMap(\n",
    "    camera_matrix, dist_coeffs, Rdown, birdseye_camera_matrix, (320, 240), cv2.CV_16SC2)\n",
    "print udm1.shape, udm2.shape\n"
   ]
  },
  {
   "cell_type": "code",
   "execution_count": 366,
   "metadata": {
    "collapsed": true
   },
   "outputs": [],
   "source": [
    "def kalman_update_cam(img, x, P, mask, dt):\n",
    "    N = len(nz[0])\n",
    "    if N < 20:\n",
    "        return x, P\n",
    "\n",
    "    # measure line slope / position\n",
    "    nzt = udplane[nz]  # undistort coordinates\n",
    "    X = np.vstack([np.ones(N), nzt[:,1], nzt[:,1]**2]).T  # 1, screen y is X\n",
    "    y = nzt[:,0]   # screen x coords are y in our regression\n",
    "    B = np.linalg.lstsq(np.dot(X.T, X), np.dot(X.T, y))[0]\n",
    "    if np.any(np.isnan(B)) or np.any(np.isinf(B)):\n",
    "        print \"warning: ignoring camera update w/ inf regression\"\n",
    "        return x, P\n",
    "    r2 = np.dot(B.T, np.dot(np.dot(X.T, X), B)) - 2*np.dot(np.dot(X, B).T, y) + np.dot(y.T, y)\n",
    "    # r2 /= N\n",
    "    Rk = np.linalg.inv(np.dot(X.T, X)) * r2\n",
    "    # print 'mb_Rk\\n', Rk\n",
    "    # Rk[1, 1] += 0.01  # slope is just iffy in general\n",
    "    t = np.linspace(0, -2, 10)\n",
    "    pts = np.vstack([B[0] + t*B[1] + t*t*B[2], t, np.ones(10)])\n",
    "    p = np.dot(m_to_birdseye_matrix, pts)\n",
    "    # draw instantaneous line fit\n",
    "    for i in range(len(t) - 1):\n",
    "        cv2.line(img, (int(p[0, i]), int(p[1, i])),\n",
    "                 (int(p[0, i+1]), int(p[1, i+1])),\n",
    "                 (255, 255, 255))\n",
    "    cv2.putText(img, \"b%0.3f m%0.3f k%0.4f r%0.4f\" % (B[0], B[1], -B[2]/2, r2), (0, 239), cv2.FONT_HERSHEY_SIMPLEX, 0.5, (255,255,255), 1)\n",
    "\n",
    "    # kalman update from line parameters B\n",
    "    z_k, H_k = h_centerline(x)    \n",
    "    y_k = (B - z_k)\n",
    "    S = np.dot(H_k, np.dot(P, H_k.T)) + Rk\n",
    "    K = np.dot(P, np.dot(H_k.T, np.linalg.inv(S)))\n",
    "    print >>kalman_log, 'mb_K\\n', K\n",
    "    print >>kalman_log, 'y_k', y_k, 'pred', z_k, 'meas', B\n",
    "    #print 'K[0]', K[:, 0]\n",
    "    #print 'K[1]', K[:, 1]\n",
    "    x += np.dot(K, y_k)\n",
    "\n",
    "    KHk = np.dot(K, H_k)\n",
    "    P = np.dot((np.eye(len(x)) - KHk), P)\n",
    "    # print x[:4]\n",
    "    # print np.diag(P)[:4]\n",
    "    \n",
    "    return x, P\n"
   ]
  },
  {
   "cell_type": "code",
   "execution_count": 345,
   "metadata": {
    "collapsed": true
   },
   "outputs": [],
   "source": [
    "def kalman_update_imu(x, P, u, accel, gyro, dt):\n",
    "    z_k, H_k = h_imu(x, u)\n",
    "    # convert accelerometer gs to m/s^2\n",
    "    accel = 9.8 * accel\n",
    "    y_k = np.float32([gyro[2], accel[0], accel[1]]) - z_k\n",
    "\n",
    "    # accelerometer measurements are hugely noisy, almost not even worth it\n",
    "    Rk = np.diag([1e-2, 2, 2])**2  # measure the actual noise?\n",
    "    \n",
    "    S = np.dot(H_k, np.dot(P, H_k.T)) + Rk\n",
    "    K = np.dot(P, np.dot(H_k.T, np.linalg.inv(S)))\n",
    "    print >>kalman_log, 'imu K\\n', K\n",
    "    print >>kalman_log, 'imu y_k', y_k, 'pred', z_k, 'meas', y_k + z_k\n",
    "    x += np.dot(K, y_k)\n",
    "\n",
    "    KHk = np.dot(K, H_k)\n",
    "    P = np.dot((np.eye(len(x)) - KHk), P)\n",
    "\n",
    "    return x, P\n"
   ]
  },
  {
   "cell_type": "code",
   "execution_count": 346,
   "metadata": {
    "collapsed": false
   },
   "outputs": [
    {
     "data": {
      "text/plain": [
       "\"def kalman_update_map(x, P):\\n    ye, psie, w, v, k, Cv, Tv, Cs, Ts, mu_s, mu_g, mu_ax, mu_ay = x\\n    var_s, _, _, _, _, var_k = np.diag(P)[:6]\\n\\n    # use the map to refine estimate of s\\n    y_k, R_k = refine_s(s, var_s, k, var_k)\\n    R_k[1, 1] += 1\\n    H_k = np.float32([\\n            [1, 0, 0, 0, 0, 0, 0, 0, 0, 0, 0, 0, 0, 0],\\n            [0, 0, 0, 0, 0, 1, 0, 0, 0, 0, 0, 0, 0, 0]\\n        ])\\n    \\n    S = np.dot(H_k, np.dot(P, H_k.T)) + R_k\\n    K = np.dot(P, np.dot(H_k.T, np.linalg.inv(S)))\\n    print >>kalman_log, 'trackmap h_k', s, '+-', np.sqrt(var_s), ',', k, '+-', np.sqrt(var_k)\\n    print >>kalman_log, 'trackmap K\\n', K\\n    print >>kalman_log, 'trackmap R_k\\n', R_k\\n    print >>kalman_log, 'trackmap S_k\\n', S\\n    print >>kalman_log, 'trackmap y_k', y_k\\n\\n    x += np.dot(K, y_k)\\n\\n    KHk = np.dot(K, H_k)\\n    P = np.dot((np.eye(len(x)) - KHk), P)\\n\\n    return x, P\\n    \""
      ]
     },
     "execution_count": 346,
     "metadata": {},
     "output_type": "execute_result"
    }
   ],
   "source": [
    "# deprecated; will use a particle filter on s for map matching\n",
    "# we *could* make a measurement of k from the map, but it's probably best not to\n",
    "# cause a feedback loop.\n",
    "# instead, use the kalman filter as a prior distribution P(k) and use the particle filter as\n",
    "# an estimate of P(s|k); so P(s, k) = P(s|k) * P(k)\n",
    "# then we can do planning via sampling or just maximum likelihood of s and k.\n",
    "\n",
    "# or just plan using s, k from the map particle, and the rest of the EKF state for\n",
    "# everything else.\n",
    "\n",
    "\n",
    "'''def kalman_update_map(x, P):\n",
    "    ye, psie, w, v, k, Cv, Tv, Cs, Ts, mu_s, mu_g, mu_ax, mu_ay = x\n",
    "    var_s, _, _, _, _, var_k = np.diag(P)[:6]\n",
    "\n",
    "    # use the map to refine estimate of s\n",
    "    y_k, R_k = refine_s(s, var_s, k, var_k)\n",
    "    R_k[1, 1] += 1\n",
    "    H_k = np.float32([\n",
    "            [1, 0, 0, 0, 0, 0, 0, 0, 0, 0, 0, 0, 0, 0],\n",
    "            [0, 0, 0, 0, 0, 1, 0, 0, 0, 0, 0, 0, 0, 0]\n",
    "        ])\n",
    "    \n",
    "    S = np.dot(H_k, np.dot(P, H_k.T)) + R_k\n",
    "    K = np.dot(P, np.dot(H_k.T, np.linalg.inv(S)))\n",
    "    print >>kalman_log, 'trackmap h_k', s, '+-', np.sqrt(var_s), ',', k, '+-', np.sqrt(var_k)\n",
    "    print >>kalman_log, 'trackmap K\\n', K\n",
    "    print >>kalman_log, 'trackmap R_k\\n', R_k\n",
    "    print >>kalman_log, 'trackmap S_k\\n', S\n",
    "    print >>kalman_log, 'trackmap y_k', y_k\n",
    "\n",
    "    x += np.dot(K, y_k)\n",
    "\n",
    "    KHk = np.dot(K, H_k)\n",
    "    P = np.dot((np.eye(len(x)) - KHk), P)\n",
    "\n",
    "    return x, P\n",
    "    '''\n"
   ]
  },
  {
   "cell_type": "code",
   "execution_count": 347,
   "metadata": {
    "collapsed": false
   },
   "outputs": [
    {
     "name": "stdout",
     "output_type": "stream",
     "text": [
      "track distance 30.6 spacing 0.2\n"
     ]
    },
    {
     "data": {
      "text/plain": [
       "[<matplotlib.lines.Line2D at 0x1244e69d0>]"
      ]
     },
     "execution_count": 347,
     "metadata": {},
     "output_type": "execute_result"
    },
    {
     "data": {
      "image/png": "[encoded data removed]",
      "text/plain": [
       "<matplotlib.figure.Figure at 0x12458e150>"
      ]
     },
     "metadata": {},
     "output_type": "display_data"
    }
   ],
   "source": [
    "# the track map was originally set up on an image with a lane width of about 40 pixels\n",
    "# corresponding to 1.8 meters\n",
    "MAP_SCALE = 1.8/40  # meters / map unit\n",
    "\n",
    "MAP_SPACING = MAP_SCALE*11  # inter-point spacing in meters (is 11 in map units)\n",
    "# (5.88 track units / meter) / (11 track units / space)\n",
    "# = x meters / space\n",
    "# divide curvature (1/mapunit) by MAP_SCALE to get (1/meters)\n",
    "\n",
    "trackmap_curvature = 0.5 * np.float32([  # i don't know why i need to fudge this by 1/2\n",
    "       -0.00005514, -0.00006868, -0.00009158, -0.00013434, -0.00023168,\n",
    "       -0.00046061,  0.00194107,  0.00023285, -0.00148094, -0.00319153,\n",
    "       -0.00486674, -0.0067554 , -0.01304177, -0.00786357, -0.00479418,\n",
    "       -0.00248969, -0.00486794, -0.01631333, -0.00698942, -0.00072471,\n",
    "        0.00539643,  0.01291206,  0.01675034,  0.02363724,  0.0206228 ,\n",
    "        0.03207364,  0.01813854,  0.01414216,  0.02136572,  0.02705863,\n",
    "        0.01503912,  0.01166399,  0.01518489,  0.02251603,  0.02793345,\n",
    "        0.01669162,  0.01882312,  0.02879992,  0.00858401,  0.00351843,\n",
    "        0.00151938,  0.00023876, -0.00106178, -0.00246747,  0.0011578 ,\n",
    "        0.00099443,  0.00079809,  0.00057129,  0.0003187 ,  0.00004707,\n",
    "       -0.00023509, -0.00051808, -0.0007918 , -0.00104664, -0.0012743 ,\n",
    "       -0.00676779, -0.01105019, -0.00931596, -0.00762937, -0.00609633,\n",
    "       -0.00640101, -0.00762116, -0.00780885, -0.0082183 , -0.00884384,\n",
    "       -0.00716877, -0.00244946, -0.00184087, -0.00139999, -0.00104898,\n",
    "       -0.00073532, -0.00040824,  0.0000118 ,  0.00068169,  0.02411683,\n",
    "        0.05136439,  0.08238694,  0.03717972,  0.01340399,  0.00649472,\n",
    "        0.00228229,  0.00098088,  0.00037734, -0.00004254,  0.00271266,\n",
    "        0.00513409,  0.00607055,  0.01094126,  0.01264397,  0.01057568,\n",
    "        0.01291   ,  0.01362091,  0.0128938 ,  0.0113266 ,  0.01320195,\n",
    "        0.0171448 ,  0.01392724,  0.0112788 ,  0.0094803 ,  0.00883845,\n",
    "        0.00014593, -0.00004646, -0.00004311, -0.00004702]) / MAP_SCALE\n",
    "\n",
    "MAP_SCALE = 1\n",
    "MAP_SPACING = 0.20  # 20 cm spacing\n",
    "\n",
    "trackmap_curvature = np.float32([\n",
    "        6.71627167e-02,   6.54640293e-02,   4.77807895e-02,\n",
    "         1.12032655e-01,   1.45301417e-01,   2.00077208e-01,\n",
    "         2.02842012e-01,   2.87154073e-01,   2.74166357e-01,\n",
    "         3.04080144e-01,   2.46089248e-01,   1.98528924e-01,\n",
    "         1.08559329e-01,   2.15079543e-02,  -6.12811366e-03,\n",
    "        -4.26415923e-04,  -4.68766323e-04,   6.94816010e-05,\n",
    "         1.16261690e-02,   2.97550639e-02,   3.64991561e-02,\n",
    "         7.27531680e-02,   1.56630703e-01,   2.31087352e-01,\n",
    "         2.02508410e-01,   1.48798964e-01,   1.52410904e-01,\n",
    "         1.98627946e-01,   2.23022501e-01,   2.05759283e-01,\n",
    "         1.55154388e-01,   1.09360246e-01,   6.58350240e-02,\n",
    "         8.83356002e-02,   1.48038073e-01,   2.61532754e-01,\n",
    "         3.51532742e-01,   3.20840469e-01,   1.57536799e-01,\n",
    "         6.52304636e-02,   4.22950209e-02,   2.51563835e-02,\n",
    "         2.36187770e-02,   5.23029966e-02,   5.59284543e-02,\n",
    "         1.13526929e-02,  -3.11396602e-02,  -3.24145536e-02,\n",
    "        -3.66376402e-02,  -6.24694450e-02,  -1.06670115e-01,\n",
    "        -2.39383988e-01,  -4.11360654e-01,  -6.89394349e-01,\n",
    "        -7.30960985e-01,  -5.90502348e-01,  -2.26592277e-01,\n",
    "        -1.58138893e-01,  -1.23019147e-01,  -5.00972111e-02,\n",
    "         2.29463109e-02,   2.01609803e-02,  -2.19712561e-03,\n",
    "         4.61595858e-03,   4.01443884e-02,   4.69388097e-02,\n",
    "         2.89347770e-02,  -2.72411918e-05,   1.50384258e-02,\n",
    "         4.47409332e-02,   8.25356456e-02,   1.47911558e-01,\n",
    "         2.11458300e-01,   2.22095229e-01,   1.76360665e-01,\n",
    "         1.36636437e-01,   1.10539954e-01,   8.68817464e-02,\n",
    "         7.29040773e-02,   6.70894559e-02,   1.03318212e-01,\n",
    "         1.31915927e-01,   1.51203758e-01,   1.38538267e-01,\n",
    "         1.15079231e-01,   6.87103246e-02,   1.81409908e-01,\n",
    "         3.24595944e-01,   3.61714234e-01,   1.59915040e-01,\n",
    "         1.06275917e-01,   6.76596803e-02,   2.72768650e-02,\n",
    "        -3.98173001e-05,   1.05792281e-02,   4.57653033e-02,\n",
    "         5.12183699e-02,   1.09412953e-02,  -9.31988457e-03,\n",
    "        -1.38116229e-02,   5.27244532e-03,   3.59958810e-02,\n",
    "         5.13150920e-02,   5.99747074e-02,   9.34674063e-02,\n",
    "         1.21122627e-01,   1.09639956e-01,   8.97811164e-02,\n",
    "         8.81276283e-02,   1.01606632e-01,   9.85513720e-02,\n",
    "         6.51077066e-02,   3.78529182e-02,   4.80721412e-02,\n",
    "         6.34703887e-02,   5.16424821e-02,   5.44352445e-02,\n",
    "         7.92617871e-02,   1.22142027e-01,   1.68524750e-01,\n",
    "         2.63366890e-01,   3.26075232e-01,   2.77472009e-01,\n",
    "         1.85682446e-01,   1.84203996e-01,   1.94251599e-01,\n",
    "         1.67912277e-01,   1.03608210e-01,   4.67916866e-02,\n",
    "        -2.82119950e-02,  -6.92813540e-02,  -6.47489790e-02,\n",
    "        -5.09923613e-02,  -1.67846986e-01,  -3.90828429e-01,\n",
    "        -4.29633227e-01,  -1.76697398e-01,  -3.92391845e-02,\n",
    "        -5.46418161e-03,   2.29392292e-02,   1.79451389e-02,\n",
    "         6.24793321e-04,   2.51410558e-03,   1.23813972e-02,\n",
    "         1.45234616e-02,   3.89923252e-02,   4.80602234e-02,\n",
    "        -6.36562090e-03,  -7.78778067e-02,  -8.14828090e-02,\n",
    "        -5.97846016e-02,  -3.63693686e-02,   3.02351401e-02])\n",
    "\n",
    "trackmap_curvature_grad = np.concatenate([\n",
    "        trackmap_curvature[1:] - trackmap_curvature[:-1],\n",
    "        [trackmap_curvature[0] - trackmap_curvature[-1]]]) / MAP_SPACING\n",
    "\n",
    "MAP_LENGTH = len(trackmap_curvature) * MAP_SPACING\n",
    "\n",
    "def curvature_mean_grad_var(mean_s, var_s):\n",
    "    ''' return mean, derivative, and variance of curvature given state estimate s '''\n",
    "    s = np.arange(len(trackmap_curvature)) * MAP_SPACING  # is in meters\n",
    "    tracklen = len(trackmap_curvature) * MAP_SPACING # meters\n",
    "    sdist = ((s - mean_s) + tracklen/2) % tracklen - tracklen/2  # wrap distance around track\n",
    "\n",
    "    ps = np.exp(-sdist**2 / (2 * var_s))\n",
    "    ps /= np.sum(ps)\n",
    "    # note we can't use the regular gaussian normalizer here\n",
    "    mean = np.sum(ps * trackmap_curvature)\n",
    "    v = np.sum(ps * (trackmap_curvature - mean)**2)\n",
    "    grad = np.sum(ps * trackmap_curvature_grad)\n",
    "    return mean, v, grad\n",
    "\n",
    "print 'track distance', MAP_LENGTH, 'spacing', MAP_SPACING\n",
    "s = np.linspace(0, len(trackmap_curvature) * MAP_SPACING, 200)\n",
    "c = np.float32([curvature_mean_grad_var(ds, 0.1**2) for ds in s])\n",
    "plt.plot(s, c[:, 0])\n",
    "#plt.plot(s, c[:, 0] - np.sqrt(c[:, 1]))\n",
    "#plt.plot(s, c[:, 0] + np.sqrt(c[:, 1]))\n",
    "#plt.plot(s, np.zeros(100))\n",
    "#plt.plot(s, 10*c[:, 2])"
   ]
  },
  {
   "cell_type": "code",
   "execution_count": 348,
   "metadata": {
    "collapsed": false
   },
   "outputs": [
    {
     "data": {
      "text/plain": [
       "[<matplotlib.lines.Line2D at 0x12545bf10>]"
      ]
     },
     "execution_count": 348,
     "metadata": {},
     "output_type": "execute_result"
    },
    {
     "data": {
      "image/png": "[encoded data removed]",
      "text/plain": [
       "<matplotlib.figure.Figure at 0x125308890>"
      ]
     },
     "metadata": {},
     "output_type": "display_data"
    }
   ],
   "source": [
    "def track_location_prob(state_log):\n",
    "    s = state_log[:, 0]\n",
    "    s -= s[-1]\n",
    "    k = state_log[:, 5]\n",
    "    Pk = state_log[:, 10]\n",
    "    prob = np.zeros(100)\n",
    "    trackpts = len(trackmap_curvature)\n",
    "    ds = np.linspace(0, TRACK_LEN, 101)[:-1]\n",
    "    for i in range(len(ds)):\n",
    "        idxs = np.int32(((s + ds[i]) / MAP_SPACING)) % trackpts\n",
    "        # print i, idxs\n",
    "        k_traj = trackmap_curvature[idxs]\n",
    "        prob[i] = np.sum(-(k - k_traj)**2 / Pk)\n",
    "        #plt.plot(k_traj)\n",
    "        #plt.plot(k)\n",
    "        #plt.show()\n",
    "        #print i, prob[i]\n",
    "\n",
    "    prob -= np.max(prob)\n",
    "    prob = np.exp(prob)\n",
    "    prob /= np.sum(prob)\n",
    "    return prob\n",
    "\n",
    "plt.plot(track_location_prob(np.float32(state_log[-100:])))"
   ]
  },
  {
   "cell_type": "code",
   "execution_count": 349,
   "metadata": {
    "collapsed": false
   },
   "outputs": [],
   "source": [
    "TRACK_LEN = len(trackmap_curvature) * MAP_SPACING\n",
    "\n",
    "def init_particles():\n",
    "    # initially, evenly space particles along the track\n",
    "    return np.linspace(0, TRACK_LEN, 1000)\n",
    "\n",
    "def update_particles(x, P, s_particles, dt):\n",
    "    ye, psie, w, v, k, Cv, Tv, Cs, Ts, mu_s, mu_g, mu_ax, mu_ay = x\n",
    "    trackpts = len(trackmap_curvature)\n",
    "    \n",
    "    PU = np.linalg.cholesky(P[:5, :5]).T # upper triangle of chol(P) for sampling\n",
    "\n",
    "    # first, resample the particles based on their likelihood w.r.t. k, P[k]\n",
    "    L = len(s_particles)\n",
    "\n",
    "    # add a uniform sample of particles onto our set, just in case we're ever starved\n",
    "    #s_particles = np.concatenate([s_particles, np.linspace(0, TRACK_LEN, 50)])\n",
    "    # ^ that's a stupid idea, because it loses the whole point of having a particle filter\n",
    "    \n",
    "    k_particles = trackmap_curvature[np.int32((s_particles / MAP_SPACING) % trackpts)]\n",
    "    k_var = P[4, 4] * 6\n",
    "    ps = -(k_particles - k)**2 / (2 * k_var)\n",
    "    \n",
    "    ps -= np.max(ps)\n",
    "    ps = np.exp(ps)\n",
    "    ps *= L / np.sum(ps)\n",
    "    r = np.random.rand()\n",
    "    new_particles = np.zeros(L)\n",
    "    p, j = 0, 0\n",
    "    vsum = 0\n",
    "    # hist = np.zeros(L)\n",
    "    for i in range(L):\n",
    "        while r > ps[j]:\n",
    "            r -= ps[j]\n",
    "            j += 1\n",
    "        # hist[j] += 1\n",
    "        x_sample = x[:5] + np.dot(PU, np.random.randn(5)) * 6\n",
    "        ye1, psie1, w1, v1, k1 = x_sample\n",
    "        vsum += v1\n",
    "        # use curvature from track k_particles[j]? that seems to lead to starvation\n",
    "        # but it is more correct. hm.\n",
    "        #new_particles[i] = s_particles[j] + dt * v1 * np.cos(psie1) / (1 - k1 * ye1)\n",
    "        new_particles[i] = s_particles[j] + dt * v1 * np.cos(psie1) / (1 - k_particles[j] * ye1)\n",
    "        new_particles[i] %= trackpts * MAP_SPACING\n",
    "        r += 1\n",
    "    # print 'new particle mean', np.mean(new_particles), 'vel', v*dt, 'mean sample vel', dt*vsum / L\n",
    "    # print hist\n",
    "    \n",
    "    k_particles = trackmap_curvature[np.int32((new_particles / MAP_SPACING) % trackpts)]\n",
    "    k_var = P[4, 4]\n",
    "    ps = -(k_particles - k)**2 / (2 * k_var)\n",
    "    ps -= np.max(ps)\n",
    "    ps = np.exp(ps)\n",
    "    ps *= 1.0 / np.sum(ps)\n",
    "\n",
    "    return new_particles, ps\n",
    "\n",
    "# update_particles(x, P, init_particles(), 1.0/30)"
   ]
  },
  {
   "cell_type": "code",
   "execution_count": 350,
   "metadata": {
    "collapsed": false
   },
   "outputs": [
    {
     "name": "stdout",
     "output_type": "stream",
     "text": [
      "[-0.15204281  0.35151312  0.05725216  0.61676508 -0.04092094  2.19721484\n",
      "  0.80049348  0.14020237 -1.12976098  0.16871057 -0.05996782 -0.0604765\n",
      "  0.05177179]\n",
      "[ 0.85646508  0.59360935  0.08965365  2.38873374  0.0767485   0.1808314\n",
      "  0.29031433  0.18082118  0.1509797   0.07697814  0.08920759  0.33543808\n",
      "  0.34844973]\n"
     ]
    }
   ],
   "source": [
    "print x\n",
    "print np.sqrt(np.diag(P))"
   ]
  },
  {
   "cell_type": "code",
   "execution_count": 355,
   "metadata": {
    "collapsed": false
   },
   "outputs": [],
   "source": [
    "U_THRESH = 112\n",
    "V_THRESH = 135"
   ]
  },
  {
   "cell_type": "code",
   "execution_count": 377,
   "metadata": {
    "collapsed": false
   },
   "outputs": [],
   "source": [
    "capture = open(\"home0521-7-1.yuv\")  # gzip.open(\"driveway4-1.yuv.gz\")\n",
    "\n",
    "#x = initial_state(0, 0, 0, 0, 0,\n",
    "#                  np.log(5), 0, np.log(0.3), np.log(0.5),\n",
    "#                  0, 0, 0, 0)\n",
    "\n",
    "# linear white line / yellow line / background classifier\n",
    "yuvw1 = np.array([\n",
    "    [  7.64430666,   4.79871893,  -6.13509226],\n",
    "    [  6.2450037 , -19.7711277 ,   5.95682621],\n",
    "    [ -4.67799187,  14.61457253,  -4.42752457]], dtype=np.float32)\n",
    "\n",
    "yuvb1 = 128 * (-np.dot([1, 1, 1], yuvw1) +\n",
    "               np.array([-2.20822358, -6.71973562 - 2,  4.39618778], dtype=np.float32))\n",
    "\n",
    "x = initial_state(0, 0, 0, 0, 0,  # more accurate initialization of free params w/ hindsight\n",
    "                 np.log(9), 0.80, 0.14, -1.13, 0.17, -0.21, -0.05055933, 0.05653949)\n",
    "\n",
    "P = np.diag([2, 1, 0.1, 10, 1,\n",
    "             0.18, 0.29, 0.18, 0.15, 0.076, 0.17, 0.35, 0.35])**2\n",
    "s_coord = 0\n",
    "state_log = []\n",
    "\n",
    "write_video = False\n",
    "\n",
    "if write_video:\n",
    "    out = cv2.VideoWriter(\"ekf.h264\", cv2.VideoWriter_fourcc(\n",
    "          'X', '2', '6', '4'), 30, (640, 480), True)\n",
    "\n",
    "kalman_log = open(\"kalman.log\", \"w\")\n",
    "\n",
    "prev_ts = None\n",
    "s_particles = init_particles()\n",
    "frameno = 0\n",
    "\n",
    "while True:\n",
    "    fhdr = 36\n",
    "    fsize = fhdr + 640*480 + 320*240*2\n",
    "    frame = np.frombuffer(capture.read(fsize), np.uint8)\n",
    "    if len(frame) < fsize:\n",
    "        break\n",
    "    tstamp = np.frombuffer(np.getbuffer(frame[:8]), np.uint32)\n",
    "    controls = np.frombuffer(np.getbuffer(frame[8:12]), np.uint16)\n",
    "    accel = np.frombuffer(np.getbuffer(frame[12:24]), np.float32)\n",
    "    gyro = np.frombuffer(np.getbuffer(frame[24:36]), np.float32)\n",
    "    # FIXME: bug workaround: gyro full scale was off by a factor of 4\n",
    "    # gyro = gyro * 4.0   # not needed with driveway4+\n",
    "    ts = tstamp[0] + tstamp[1] / 1000000.0\n",
    "\n",
    "    # hack because i forgot to save autodrive throttle\n",
    "    # if controls[0] == 614 and controls[1] != 655:\n",
    "    #     controls = [700, controls[1]]\n",
    "    controls = np.float32(controls) / 204.8 - 3.0\n",
    "    # controls[1] = controls[1] - 6500/32768.0  # steering is backwards and has a trim value of ~6500\n",
    "    # but we want backwards steering as we have w as counterclockwise\n",
    "\n",
    "    y = frame[fhdr:fhdr+640*480]\n",
    "    u = np.copy(frame[fhdr+640*480:fhdr+640*480+320*240])\n",
    "    v = np.copy(frame[fhdr+640*480+320*240:])\n",
    "    u[u < U_THRESH] = 0\n",
    "    v[v > V_THRESH] = 255\n",
    "    cv2.imshow(\"y\", y.reshape(-1, 640))\n",
    "    cv2.imshow(\"u\", u.reshape(-1, 320))\n",
    "    cv2.imshow(\"v\", v.reshape(-1, 320))\n",
    "    img = cv2.cvtColor(frame[fhdr:].reshape((-1, 640)), cv2.COLOR_YUV420P2RGB)\n",
    "    \n",
    "    #pixelclass = np.argmax(\n",
    "    #    yuvw1[0] * y.reshape((480, 640))[::2, ::2]\n",
    "    #    + yuvw1[1] * u.reshape((240, 320))\n",
    "    #    + yuvw1[2] * v.reshape((240, 320)) + yuvb1, axis=2)\n",
    "    #mask = pixelclass[ytop:] == 1\n",
    "\n",
    "    mask = ((u[ytop*320:] < U_THRESH) & (v[ytop*320:] > V_THRESH)).reshape(-1, 320)\n",
    "    mask = mask & udmask\n",
    "    nz = np.nonzero(mask)\n",
    "    \n",
    "    img[2*ytop+nz[0]*2, nz[1]*2, 0] = 255\n",
    "    img[2*ytop+nz[0]*2, nz[1]*2, 1] = 255\n",
    "    img[2*ytop+nz[0]*2, nz[1]*2, 2] = 0\n",
    "    #img[mask, 2] = 255\n",
    "    \n",
    "    birdseye = cv2.remap(img[::2,::2], udm1, udm2, cv2.INTER_LINEAR)  #, borderMode=cv2.BORDER_CONSTANT, borderValue=(255,255,255))\n",
    "\n",
    "    img[:240, :320] = birdseye\n",
    "    \n",
    "    dt = 1.0/30\n",
    "    if prev_ts is not None:\n",
    "        dt = ts - prev_ts\n",
    "    prev_ts = ts\n",
    "    if dt > 0.2:\n",
    "        print \"WARNING: lost time!\", dt\n",
    "\n",
    "    x, P = kalman_update_input(x, P, controls, dt)\n",
    "    \n",
    "    x, P = kalman_update_cam(img, x, P, nz, dt)\n",
    "    \n",
    "    x, P = kalman_update_imu(x, P, controls, accel, gyro, dt)\n",
    "    \n",
    "    # show particle filter locations\n",
    "    # first graph track curvature\n",
    "    for i in range(len(trackmap_curvature) - 1):\n",
    "        x0 = 5 + 630.0*i / len(trackmap_curvature)\n",
    "        x1 = 5 + 630.0*(i+1) / len(trackmap_curvature)\n",
    "        cv2.line(img, (int(x0), int(410 + 50*trackmap_curvature[i])),\n",
    "                 (int(x1), int(410 + 50*trackmap_curvature[i+1])),\n",
    "                 (0, 255, 255), 1)\n",
    "                        \n",
    "    # todo: particle filter update:\n",
    "    s_coord += dt * x[3] * np.cos(x[1]) / (1 - x[4]*x[0])\n",
    "    state_log.append([s_coord] + list(x[:5]) + list(np.diag(P)[:5]))\n",
    "    # compute track likelihood against recent states!\n",
    "    \n",
    "    if False:\n",
    "        ps = track_location_prob(np.float32(state_log[-300:]))\n",
    "        for i in range(len(ps) - 1):\n",
    "            x0 = 5 + 630.0*i / len(ps)\n",
    "            x1 = 5 + 630.0*(i+1) / len(ps)\n",
    "            cv2.line(img,\n",
    "                     (int(x0), int(400 - 50*ps[i])),\n",
    "                     (int(x1), int(400 - 50*ps[i+1])),\n",
    "                     (255, 0, 0), 1)\n",
    "    \n",
    "    #s_particles, ps = update_particles(x, P, s_particles, dt)\n",
    "    \n",
    "    if False:\n",
    "        img[410, np.int32(630 * s_particles / TRACK_LEN + 5), 0] = 255\n",
    "        img[410, np.int32(630 * s_particles / TRACK_LEN + 5), 1] = 255\n",
    "        img[410, np.int32(630 * s_particles / TRACK_LEN + 5), 2] = 255\n",
    "        img[411, np.int32(630 * s_particles / TRACK_LEN + 5), 0] = 0\n",
    "        img[411, np.int32(630 * s_particles / TRACK_LEN + 5), 1] = 0\n",
    "        img[411, np.int32(630 * s_particles / TRACK_LEN + 5), 2] = 0\n",
    "        p_mode = s_particles[np.argmax(ps)]\n",
    "        p_dist = ((s_particles - p_mode) + TRACK_LEN/2) % TRACK_LEN - TRACK_LEN/2  # wrap distance around track\n",
    "\n",
    "        p_mean = np.sum(p_dist * ps) + p_mode\n",
    "        cv2.circle(img, (int(630 * p_mean / TRACK_LEN + 5), 410), 6, 0, 3)\n",
    "        cv2.circle(img, (int(630 * p_mean / TRACK_LEN + 5), 410), 6, (255, 255, 255), 1)\n",
    "        cv2.line(img, (5, 405), (5, 415), (0, 0, 0), 5)\n",
    "        cv2.line(img, (5, 405), (5, 415), (255, 255, 255), 3)\n",
    "        cv2.line(img, (635, 405), (635, 415), (0, 0, 0), 5)\n",
    "        cv2.line(img, (635, 405), (635, 415), (255, 255, 255), 3)\n",
    "    \n",
    "    # x, P = kalman_update_map(x, P)\n",
    "    \n",
    "    # if psi went backwards, fix it... or don't, cuz we're going backwards i guess?\n",
    "    if x[1] > np.pi / 2:\n",
    "        x[1] -= np.pi\n",
    "    elif x[1] < -np.pi / 2:\n",
    "        x[1] += np.pi\n",
    "    # x[3] = np.abs(x[3])  # (v) dumb hack: keep us from going backwards when we're confused\n",
    "    x[4] = np.clip(x[4], -0.1, 0.5)  # minimum curvature radius is +2 meters? really?\n",
    "\n",
    "    print >>kalman_log, 'x', x\n",
    "    print >>kalman_log, 'P', np.diag(P)\n",
    "    kalman_log.flush()\n",
    "    \n",
    "    # plot new line with measurement from kalman state\n",
    "    #B, _ = h_centerline(x)\n",
    "    #pts = np.float32([[B[0], 0, 1], [B[0]-10*B[1], -10, 1]]).T\n",
    "    #p = np.dot(meter_camera_matrix, pts)\n",
    "    ## draw kalman line fit\n",
    "    #cv2.line(img, (int(p[0, 0]), int(p[1, 0])),\n",
    "    #         (int(p[0, 1]), int(p[1, 1])),\n",
    "    #         (0, 255, 0))\n",
    "    \n",
    "    # plot circle of assumed curvature\n",
    "    # center is at\n",
    "    if x[4] != 0:\n",
    "        lanewidth = 0.9\n",
    "        def draw_curve(ye, psie, k, color, width):\n",
    "            t = np.linspace(-1, 10, 30)\n",
    "            r = 1.0/k\n",
    "            #cx, cy = ye*k + np.cos(psie), -np.sin(psie)\n",
    "            #pts = np.vstack([\n",
    "            #        r*(cx + np.cos(t * k)),\n",
    "            #        r*(cy + np.sin(t * k)),\n",
    "            #        np.ones(len(t))\n",
    "            #    ])\n",
    "            #cv2.circle(img, (int(cx), int(cy)), int(r*meter_camera_matrix[1,1]), color, width)\n",
    "\n",
    "            # cos(a+b) = cosa cosb - sina sinb\n",
    "            # cos(x1)*cos(x4*t)/x4 - sin(x1)*sin(x4*t)/x4 - cos(x1)\n",
    "            # cos(x1)*(cos(x4*t) - 1)/x4 - sin(x1)*sin(x4*t)/x4\n",
    "            # ^ more numerically stable when x4 is nearly zero\n",
    "\n",
    "            # sin(a+b) = sina cosb + cosa sinb\n",
    "            # sin(x1) - sin(x1 - x4*t)\n",
    "            # sin(x1) - sin(x1) cos(x4*t) - cos(x1) sin(x4*t)\n",
    "            # sin(x1)*(1 - cos(x4*t)) - cos(x1) sin(x4*t)\n",
    "\n",
    "            pts = np.vstack([\n",
    "                    r*(np.cos(psie)*(np.cos(k*t) - 1) - np.sin(psie)*np.sin(k*t)) + ye,\n",
    "                    r*(np.sin(psie)*(1 - np.cos(k*t)) - np.cos(psie)*np.sin(k*t)),\n",
    "                    np.ones(len(t))])\n",
    "            p = np.dot(m_to_birdseye_matrix, pts)\n",
    "            for i in range(0, 9):\n",
    "                cv2.line(img, (int(p[0, i]), int(p[1, i])),\n",
    "                         (int(p[0, i+1]), int(p[1, i+1])),\n",
    "                         color, width)\n",
    "                \n",
    "        draw_curve(x[0], x[1], x[4], (255, 255, 0), 5)\n",
    "        # \"psie\" for the lane lines is wrong; wrong wrong wrong\n",
    "        #draw_curve(x[0] - lanewidth/np.cos(x[1]), x[1], 1/(1/x[4] - lanewidth), (255, 255, 255), 3)\n",
    "        #draw_curve(x[0] + lanewidth/np.cos(x[1]), x[1], 1/(1/x[4] + lanewidth), (255, 255, 255), 3)\n",
    "\n",
    "    # draw projection of predicted velocity\n",
    "    \n",
    "    # draw a five-frame prediction\n",
    "    pts = np.float32([[0, 0, 1],\n",
    "                      [5*dt*x[3]*np.sin(5*dt*x[2]),\n",
    "                       -5*dt*x[3]*np.cos(5*dt*x[2]), 1]]).T\n",
    "    p = np.dot(m_to_birdseye_matrix, pts)\n",
    "    cv2.line(img, (int(p[0, 0]), int(p[1, 0])),\n",
    "             (int(p[0, 1]), int(p[1, 1])),\n",
    "             (0, 0, 255))\n",
    "\n",
    "    cv2.putText(img, \"x: y%0.2f psi%0.2f w%0.2f v%0.2f k%0.2f\" % tuple(x[:5]), (0, 270),\n",
    "                cv2.FONT_HERSHEY_SIMPLEX, 0.6, (255,255,255), 1)\n",
    "    cv2.putText(img, \"P: y%0.2f psi%0.2f w%0.2f v%0.2f k%0.2f\" % tuple(np.sqrt(np.diag(P)[:5])), (0, 290),\n",
    "                cv2.FONT_HERSHEY_SIMPLEX, 0.6, (255,255,255), 1)\n",
    "\n",
    "    cv2.putText(img, \"Cv%0.2f Tv%0.2f Cs%0.2f Ts%0.2f\" % tuple(np.exp(x[5:9])), (0, 310),\n",
    "                cv2.FONT_HERSHEY_SIMPLEX, 0.6, (255,255,255), 1)\n",
    "    \n",
    "    cv2.putText(img, \"a%0.2f s%0.2f\" % tuple(controls), (0, 330),\n",
    "                cv2.FONT_HERSHEY_SIMPLEX, 0.6, (255,255,255), 1)\n",
    "\n",
    "    cv2.putText(img, \"us%0.4f ug%0.4f uax%0.4f uay%0.4f\" % tuple(x[9:13]), (0, 350),\n",
    "                cv2.FONT_HERSHEY_SIMPLEX, 0.6, (255,255,255), 1)\n",
    "    \n",
    "    # show ytop\n",
    "    cv2.line(img, (0, ytop*2), (640, ytop*2), (0,0,0), 1)\n",
    "    \n",
    "    # show controls\n",
    "    cv2.line(img, (320, 470), (int(320 + 300*controls[0]), 470), (0,0,0), 4)\n",
    "    cv2.line(img, (320, 470), (int(320 + 300*controls[0]), 470), (255,255,255), 2)\n",
    "    cv2.line(img, (320, 475), (int(320 + 300*controls[1]), 475), (0,0,0), 4)\n",
    "    cv2.line(img, (320, 475), (int(320 + 300*controls[1]), 475), (255,255,255), 2)\n",
    "    # show accelerometer measurement\n",
    "    cv2.line(img, (50, 440), (int(50 + 10*accel[0]), int(440 - 100*accel[1])), (0,0,0), 4)\n",
    "    cv2.line(img, (50, 440), (int(50 + 10*accel[0]), int(440 - 100*accel[1])), (0,255,255), 2)\n",
    "    # show gyro\n",
    "    cv2.line(img, (320, 460), (int(320 + 320*gyro[2]), 460), (0,0,0), 4)\n",
    "    cv2.line(img, (320, 460), (int(320 + 320*gyro[2]), 460), (255,255,0), 2)\n",
    "\n",
    "\n",
    "    cv2.imshow('f', img)\n",
    "    if write_video:\n",
    "        out.write(img)\n",
    "        \n",
    "    k = cv2.waitKey()\n",
    "    if k == ord('q'):\n",
    "        break\n",
    "        \n",
    "    if k == ord('s'):\n",
    "        img = cv2.cvtColor(frame[fhdr:].reshape((-1, 640)), cv2.COLOR_YUV420P2RGB)\n",
    "        cv2.imwrite(\"frame%d.png\" % frameno, img)\n",
    "\n",
    "    frameno += 1\n",
    "\n",
    "if write_video:\n",
    "    del out\n",
    "\n",
    "cv2.destroyAllWindows()\n",
    "cv2.waitKey(1)\n",
    "\n",
    "kalman_log.close()\n",
    "del kalman_log"
   ]
  },
  {
   "cell_type": "code",
   "execution_count": 353,
   "metadata": {
    "collapsed": false,
    "scrolled": true
   },
   "outputs": [
    {
     "name": "stdout",
     "output_type": "stream",
     "text": [
      "[ 0.          0.          0.          0.33333334  0.          2.30258512\n",
      "  0.         -1.20397282 -0.69314718  0.          0.          0.          0.        ]\n",
      "[[ 25.00277778   0.           0.           0.           0.           0.\n",
      "    0.           0.           0.           0.           0.           0.\n",
      "    0.        ]\n",
      " [  0.           1.00278889   0.00031111   0.           0.           0.\n",
      "    0.           0.           0.           0.           0.           0.\n",
      "    0.        ]\n",
      " [  0.           0.00031111   0.01427067   0.00019333   0.           0.\n",
      "    0.           0.           0.           0.           0.           0.\n",
      "    0.        ]\n",
      " [  0.           0.           0.00019333   0.12176667   0.           0.33333334\n",
      "   -0.00333333   0.           0.           0.           0.           0.\n",
      "    0.        ]\n",
      " [  0.           0.           0.           0.           0.00287778   0.\n",
      "    0.           0.           0.           0.           0.           0.\n",
      "    0.        ]\n",
      " [  0.           0.           0.           0.33333334   0.           1.0001\n",
      "    0.           0.           0.           0.           0.           0.\n",
      "    0.        ]\n",
      " [  0.           0.           0.          -0.00333333   0.           0.\n",
      "    0.0101       0.           0.           0.           0.           0.\n",
      "    0.        ]\n",
      " [  0.           0.           0.           0.           0.           0.\n",
      "    0.           0.0101       0.           0.           0.           0.\n",
      "    0.        ]\n",
      " [  0.           0.           0.           0.           0.           0.\n",
      "    0.           0.           0.0101       0.           0.           0.\n",
      "    0.        ]\n",
      " [  0.           0.           0.           0.           0.           0.\n",
      "    0.           0.           0.           0.0101       0.           0.\n",
      "    0.        ]\n",
      " [  0.           0.           0.           0.           0.           0.\n",
      "    0.           0.           0.           0.           0.0002       0.\n",
      "    0.        ]\n",
      " [  0.           0.           0.           0.           0.           0.\n",
      "    0.           0.           0.           0.           0.           0.0002\n",
      "    0.        ]\n",
      " [  0.           0.           0.           0.           0.           0.\n",
      "    0.           0.           0.           0.           0.           0.\n",
      "    0.0002    ]]\n"
     ]
    }
   ],
   "source": [
    "x = initial_state(0, 0, 0, 0, 0, np.log(10), 0, np.log(0.3), np.log(0.5), 0, 0, 0, 0)\n",
    "P = np.diag([5, 1, 0.1, 0.1, 0.01, 1, 0.1, 0.1, 0.1, 0.1, 0.01, 0.01, 0.01])**2\n",
    "\n",
    "x, P = kalman_update_input(x, P, [1, 1], 1.0/30)\n",
    "print x\n",
    "print P"
   ]
  },
  {
   "cell_type": "code",
   "execution_count": 185,
   "metadata": {
    "collapsed": false
   },
   "outputs": [
    {
     "data": {
      "text/plain": [
       "[<matplotlib.lines.Line2D at 0x1157dff50>]"
      ]
     },
     "execution_count": 185,
     "metadata": {},
     "output_type": "execute_result"
    },
    {
     "data": {
      "image/png": "[encoded data removed]",
      "text/plain": [
       "<matplotlib.figure.Figure at 0x11546b310>"
      ]
     },
     "metadata": {},
     "output_type": "display_data"
    }
   ],
   "source": [
    "state_log = np.float32(state_log)\n",
    "plt.plot(state_log[:, 0], state_log[:, 5])\n",
    "plt.plot(4.5 + np.arange(len(trackmap_curvature)) * MAP_SPACING, trackmap_curvature)"
   ]
  },
  {
   "cell_type": "code",
   "execution_count": 175,
   "metadata": {
    "collapsed": false
   },
   "outputs": [
    {
     "ename": "TypeError",
     "evalue": "list indices must be integers, not tuple",
     "output_type": "error",
     "traceback": [
      "\u001b[0;31m---------------------------------------------------------------------------\u001b[0m",
      "\u001b[0;31mTypeError\u001b[0m                                 Traceback (most recent call last)",
      "\u001b[0;32m<ipython-input-175-751d560c82c6>\u001b[0m in \u001b[0;36m<module>\u001b[0;34m()\u001b[0m\n\u001b[0;32m----> 1\u001b[0;31m \u001b[0mplt\u001b[0m\u001b[0;34m.\u001b[0m\u001b[0mplot\u001b[0m\u001b[0;34m(\u001b[0m\u001b[0mstate_log\u001b[0m\u001b[0;34m[\u001b[0m\u001b[0;34m:\u001b[0m\u001b[0;34m,\u001b[0m \u001b[0;36m0\u001b[0m\u001b[0;34m]\u001b[0m\u001b[0;34m,\u001b[0m \u001b[0mnp\u001b[0m\u001b[0;34m.\u001b[0m\u001b[0msqrt\u001b[0m\u001b[0;34m(\u001b[0m\u001b[0mstate_log\u001b[0m\u001b[0;34m[\u001b[0m\u001b[0;34m:\u001b[0m\u001b[0;34m,\u001b[0m \u001b[0;36m5\u001b[0m\u001b[0;34m]\u001b[0m\u001b[0;34m)\u001b[0m\u001b[0;34m)\u001b[0m\u001b[0;34m\u001b[0m\u001b[0m\n\u001b[0m",
      "\u001b[0;31mTypeError\u001b[0m: list indices must be integers, not tuple"
     ]
    }
   ],
   "source": [
    "plt.plot(state_log[:, 0], np.sqrt(state_log[:, 5]))"
   ]
  },
  {
   "cell_type": "code",
   "execution_count": 60,
   "metadata": {
    "collapsed": false
   },
   "outputs": [
    {
     "data": {
      "text/plain": [
       "(4, 105)"
      ]
     },
     "execution_count": 60,
     "metadata": {},
     "output_type": "execute_result"
    }
   ],
   "source": [
    "import sim\n",
    "sim.track.shape"
   ]
  },
  {
   "cell_type": "code",
   "execution_count": 61,
   "metadata": {
    "collapsed": true
   },
   "outputs": [],
   "source": [
    "ks = np.float32([sim.get_curvature(s) for s in range(105)])"
   ]
  },
  {
   "cell_type": "code",
   "execution_count": 91,
   "metadata": {
    "collapsed": false
   },
   "outputs": [
    {
     "data": {
      "text/plain": [
       "[<matplotlib.lines.Line2D at 0x112b01cd0>]"
      ]
     },
     "execution_count": 91,
     "metadata": {},
     "output_type": "execute_result"
    },
    {
     "data": {
      "image/png": "[encoded data removed]",
      "text/plain": [
       "<matplotlib.figure.Figure at 0x112689690>"
      ]
     },
     "metadata": {},
     "output_type": "display_data"
    }
   ],
   "source": [
    "state_log = np.float32(state_log)\n",
    "\n",
    "offset = 45\n",
    "laps = 3\n",
    "plt.plot(MAP_SPACING*np.arange(104*laps) + offset, np.concatenate([trackmap_curvature]*laps))\n",
    "plt.plot(state_log[:, 0], state_log[:, 5])\n",
    "#plt.xlim(70, 200)"
   ]
  },
  {
   "cell_type": "code",
   "execution_count": 1625,
   "metadata": {
    "collapsed": false
   },
   "outputs": [
    {
     "data": {
      "text/plain": [
       "(array([-0.0487232 ,  0.02175922]), array([[ 934.48193332,   -0.08572301],\n",
       "        [  -0.08572301,    0.00475572]]))"
      ]
     },
     "execution_count": 1625,
     "metadata": {},
     "output_type": "execute_result"
    }
   ],
   "source": [
    "def refine_s(mean_s, var_s, mean_k, var_k):\n",
    "    ''' return new P(s | s', k) -- refine position estimate from curvature estimate '''\n",
    "    s = np.arange(len(trackmap_curvature)) * MAP_SPACING  # s in meters\n",
    "    tracklen = len(trackmap_curvature) * MAP_SPACING  # tracklen in meters\n",
    "    sdist = ((s - mean_s) + tracklen/2) % tracklen - tracklen/2  # wrap distance around track\n",
    "\n",
    "    # log-probability distribution over k:\n",
    "    # P(s|k) ~ P(k|s)P(s)\n",
    "    # P(s) is given\n",
    "    # P(k|s) is the likelihood of trackmap curvature k w.r.t. mean_k / var_k\n",
    "    Ls = -(trackmap_curvature - mean_k)**2 / (2 * var_k) - sdist**2 / (2 * var_s)\n",
    "    # FIXME: need to get the joint probability P(s, k) mean and covariance\n",
    "    # so i guess we sample all integer s, and compute s and k\n",
    "    \n",
    "    # make log(mode) = 0 so we avoid overflow\n",
    "    ps = np.exp(Ls - np.max(Ls))\n",
    "    ps /= np.sum(ps)\n",
    "    \n",
    "    # plt.plot(s, ps)\n",
    "    \n",
    "    X = np.vstack([sdist, trackmap_curvature]).T\n",
    "    mean = np.dot(ps, X)\n",
    "    mean[0] += mean_s\n",
    "    Rk = np.dot((X - mean).T, np.dot(np.diag(ps), (X - mean)))\n",
    "    yk = mean - np.array([mean_s, mean_k])\n",
    "    #var = np.dot(ps, (sdist)**2)\n",
    "    return yk, Rk\n",
    "\n",
    "#plt.plot(np.arange(len(trackmap_curvature)) * MAP_SPACING,\n",
    "#         np.exp(refine_s(350, 1000**2, 0.2, 0.1**2)))\n",
    "#snew = np.float32([refine_s(s, 10**2, 0.01, 0.01**2) for s in np.linspace(0, tracklen, 100)])\n",
    "#s = np.linspace(0, tracklen, 100)\n",
    "#plt.plot(s, snew[:, 0] - s)\n",
    "#plt.plot(s, snew[:, 0] + np.sqrt(snew[:, 1]) - s)\n",
    "#plt.plot(s, snew[:, 0] - np.sqrt(snew[:, 1]) - s)\n",
    "\n",
    "#snew = np.float32([refine_s(s, 10**2, -0.01, 0.015**2) for s in np.linspace(0, tracklen, 100)])\n",
    "#s = np.linspace(0, tracklen, 100)\n",
    "#plt.plot(s, snew[:, 0] - s)\n",
    "#plt.plot(s, snew[:, 0] + np.sqrt(snew[:, 1]) - s)\n",
    "#plt.plot(s, snew[:, 0] - np.sqrt(snew[:, 1]) - s)\n",
    "\n",
    "refine_s(29, 10**2, -0.005, 0.3**2)"
   ]
  },
  {
   "cell_type": "code",
   "execution_count": 352,
   "metadata": {
    "collapsed": false
   },
   "outputs": [
    {
     "data": {
      "text/plain": [
       "[<matplotlib.lines.Line2D at 0x11fc8e510>]"
      ]
     },
     "execution_count": 352,
     "metadata": {},
     "output_type": "execute_result"
    },
    {
     "data": {
      "image/png": "[encoded data removed]",
      "text/plain": [
       "<matplotlib.figure.Figure at 0x12109d7d0>"
      ]
     },
     "metadata": {},
     "output_type": "display_data"
    }
   ],
   "source": [
    "sl = np.float32(state_log)\n",
    "plt.plot(sl[:, 0], sl[:, 5])\n",
    "plt.plot(sl[:, 0], np.sqrt(sl[:, 10]))\n",
    "plt.plot(np.linspace(0, TRACK_LEN, len(trackmap_curvature)), trackmap_curvature)"
   ]
  },
  {
   "cell_type": "code",
   "execution_count": 366,
   "metadata": {
    "collapsed": false
   },
   "outputs": [
    {
     "data": {
      "text/plain": [
       "[<matplotlib.lines.Line2D at 0x12111b490>]"
      ]
     },
     "execution_count": 366,
     "metadata": {},
     "output_type": "execute_result"
    },
    {
     "data": {
      "image/png": "[encoded data removed]",
      "text/plain": [
       "<matplotlib.figure.Figure at 0x120dd6950>"
      ]
     },
     "metadata": {},
     "output_type": "display_data"
    }
   ],
   "source": [
    "plt.plot((sl[:200, 0] - sl[199, 0]) % TRACK_LEN - 7, sl[:200, 5])\n",
    "\n",
    "plt.plot(track_location_prob(sl[:200]) / 20)\n",
    "plt.plot(np.linspace(0, 100, len(trackmap_curvature)), trackmap_curvature)"
   ]
  },
  {
   "cell_type": "code",
   "execution_count": null,
   "metadata": {
    "collapsed": false
   },
   "outputs": [],
   "source": [
    "plt.xlim([-1, 1])\n",
    "plt.plot(udplane[nz][:, 0], -udplane[nz][:, 1], '.')"
   ]
  },
  {
   "cell_type": "code",
   "execution_count": null,
   "metadata": {
    "collapsed": false
   },
   "outputs": [],
   "source": [
    "plt.plot(nz[1], -nz[0], '.')"
   ]
  },
  {
   "cell_type": "code",
   "execution_count": null,
   "metadata": {
    "collapsed": false
   },
   "outputs": [],
   "source": [
    "def circlefit(xs, ys):\n",
    "    # suuuuuuuucks, don't use\n",
    "    n = len(xs)\n",
    "    A = np.vstack([np.ones(n), xs, ys, (xs)**2 + (ys)**2])\n",
    "    print A[1]**2 + A[2]**2 - 4*A[3]\n",
    "    print A\n",
    "    A = np.dot(A.T, A)\n",
    "    U = np.linalg.cholesky(A).T\n",
    "    print U\n",
    "    a = np.linalg.det(U[:3, (1,2,3)])\n",
    "    b = -np.linalg.det(U[:3, (0,2,3)])\n",
    "    c = np.linalg.det(U[:3, (0,1,3)])\n",
    "    d = -np.linalg.det(U[:3, (0,1,2)])\n",
    "    # print a + b*xs + c*ys + d*(xs**2 + ys**2)\n",
    "    cx = -b/(2*d)\n",
    "    cy = -c/(2*d)\n",
    "    print 'center', cx, cy\n",
    "    r = np.sqrt(cx**2 + cy**2 - a/d)\n",
    "    print 'r', r\n",
    "    \n",
    "    t = np.linspace(0, 2*np.pi, 100)\n",
    "    plt.plot(r*np.cos(t) + cx, r*np.sin(t) + cy)\n",
    "\n",
    "    \n",
    "\n",
    "plt.plot(udplane[nz][:, 0], udplane[nz][:, 1], '.')\n",
    "circlefit(udplane[nz][:, 0], udplane[nz][:, 1])\n",
    "#circlefit(3*np.cos(t) + 0, 3.0001*np.sin(t) - 0.5)"
   ]
  },
  {
   "cell_type": "code",
   "execution_count": 201,
   "metadata": {
    "collapsed": false
   },
   "outputs": [
    {
     "name": "stdout",
     "output_type": "stream",
     "text": [
      "[-0.17371614 -0.23962462  0.01685847]\n",
      "29.6586774588\n"
     ]
    },
    {
     "data": {
      "image/png": "[encoded data removed]",
      "text/plain": [
       "<matplotlib.figure.Figure at 0x1147aa990>"
      ]
     },
     "metadata": {},
     "output_type": "display_data"
    }
   ],
   "source": [
    "def quadfit(xs, ys):\n",
    "    n = len(ys)\n",
    "    X = np.vstack([np.ones(n), ys, ys**2]).T\n",
    "    XTX = np.dot(X.T, X)\n",
    "    B = np.linalg.solve(XTX, np.dot(X.T, xs))\n",
    "    print B\n",
    "    t = np.linspace(0, 1.5, 30)\n",
    "    plt.plot(B[0] + B[1]*t + B[2]*t**2, t)\n",
    "    # psie is atan(dx/dy @ y=0) which is just B[1]\n",
    "    # and ye is B[0] sec(psie) i guess\n",
    "    psie = np.arctan(-B[1])\n",
    "    # for curvature we can match d^2x/dy^2 w/ a circle\n",
    "    # projected against the tangent line\n",
    "    # hm, so what's the derivative of a circle at the top? it's exactly r\n",
    "    # so 2 B[2] is our curvature exactly!\n",
    "    t = np.linspace(0, 2*np.pi, 1000)\n",
    "    r = 0.5/B[2]\n",
    "    print r\n",
    "    cx = B[0] + r*np.cos(psie)\n",
    "    cy = r*np.sin(psie)\n",
    "    #cy = r * np.sin(psie)\n",
    "    plt.plot(r * np.cos(t) + cx, r * np.sin(t) + cy)\n",
    "    \n",
    "    \n",
    "\n",
    "plt.xlim(-1, 1)\n",
    "plt.ylim(0, 1.5)\n",
    "plt.plot(udplane[nz][:, 0], -udplane[nz][:, 1], '.')\n",
    "quadfit(udplane[nz][:, 0], -udplane[nz][:, 1])"
   ]
  },
  {
   "cell_type": "code",
   "execution_count": 92,
   "metadata": {
    "collapsed": false
   },
   "outputs": [
    {
     "data": {
      "text/plain": [
       "array([[  0.97109167,  -3.88181584],\n",
       "       [ -3.88181584,  15.5269255 ]])"
      ]
     },
     "execution_count": 92,
     "metadata": {},
     "output_type": "execute_result"
    }
   ],
   "source": [
    "ss = np.dot(np.random.randn(1000, 2), np.array([[1.0, -4.0], [0.0, 0.1]]))\n",
    "np.dot(ss.T, ss) / 1000"
   ]
  },
  {
   "cell_type": "code",
   "execution_count": 93,
   "metadata": {
    "collapsed": false
   },
   "outputs": [
    {
     "data": {
      "text/plain": [
       "array([[ 1. ,  0. ],\n",
       "       [-4. ,  0.1]])"
      ]
     },
     "execution_count": 93,
     "metadata": {},
     "output_type": "execute_result"
    }
   ],
   "source": [
    "np.linalg.cholesky(np.dot(np.array([[1.0, -4.0], [0.0, 0.1]]).T, np.array([[1.0, -4.0], [0.0, 0.1]])))"
   ]
  },
  {
   "cell_type": "code",
   "execution_count": 98,
   "metadata": {
    "collapsed": false
   },
   "outputs": [
    {
     "data": {
      "text/plain": [
       "array([[  1.01739916,  -4.06648632],\n",
       "       [ -4.06648632,  16.26337419]])"
      ]
     },
     "execution_count": 98,
     "metadata": {},
     "output_type": "execute_result"
    }
   ],
   "source": [
    "ss = np.dot(np.array([[1.0, 0.0], [-4.0, 0.1]]), np.random.randn(2, 1000)).T\n",
    "np.dot(ss.T, ss) / 1000"
   ]
  },
  {
   "cell_type": "code",
   "execution_count": 107,
   "metadata": {
    "collapsed": false
   },
   "outputs": [
    {
     "data": {
      "text/plain": [
       "0.5345454545454545"
      ]
     },
     "execution_count": 107,
     "metadata": {},
     "output_type": "execute_result"
    }
   ],
   "source": [
    "MAP_SPACING"
   ]
  },
  {
   "cell_type": "code",
   "execution_count": 134,
   "metadata": {
    "collapsed": false
   },
   "outputs": [
    {
     "data": {
      "text/plain": [
       "55.592727272727274"
      ]
     },
     "execution_count": 134,
     "metadata": {},
     "output_type": "execute_result"
    }
   ],
   "source": [
    "len(trackmap_curvature) * MAP_SPACING"
   ]
  },
  {
   "cell_type": "code",
   "execution_count": 217,
   "metadata": {
    "collapsed": false
   },
   "outputs": [],
   "source": [
    "state_log = np.float32(state_log)"
   ]
  },
  {
   "cell_type": "code",
   "execution_count": 232,
   "metadata": {
    "collapsed": false
   },
   "outputs": [
    {
     "data": {
      "text/plain": [
       "[<matplotlib.lines.Line2D at 0x119a25a50>]"
      ]
     },
     "execution_count": 232,
     "metadata": {},
     "output_type": "execute_result"
    },
    {
     "data": {
      "image/png": "[encoded data removed]",
      "text/plain": [
       "<matplotlib.figure.Figure at 0x119a25a90>"
      ]
     },
     "metadata": {},
     "output_type": "display_data"
    }
   ],
   "source": [
    "#plt.plot(state_log[:, 3] * state_log[:, 4])\n",
    "plt.plot(state_log[:, 3])\n",
    "plt.plot(state_log[:, 4])"
   ]
  },
  {
   "cell_type": "code",
   "execution_count": 108,
   "metadata": {
    "collapsed": false
   },
   "outputs": [
    {
     "data": {
      "text/plain": [
       "2.1972245773362196"
      ]
     },
     "execution_count": 108,
     "metadata": {},
     "output_type": "execute_result"
    }
   ],
   "source": [
    "np.log(9)"
   ]
  },
  {
   "cell_type": "code",
   "execution_count": 111,
   "metadata": {
    "collapsed": false
   },
   "outputs": [
    {
     "data": {
      "text/plain": [
       "array([   4.      ,    1.      ,    0.01    ,  100.      ,    1.      ,\n",
       "          0.0324  ,    0.0841  ,    0.0324  ,    0.0225  ,    0.005776,\n",
       "          0.0289  ,    0.1225  ,    0.1225  ])"
      ]
     },
     "execution_count": 111,
     "metadata": {},
     "output_type": "execute_result"
    }
   ],
   "source": [
    "P = np.diag([2, 1, 0.1, 10, 1,\n",
    "             0.18, 0.29, 0.18, 0.15, 0.076, 0.17, 0.35, 0.35])**2\n",
    "np.diag(P)"
   ]
  },
  {
   "cell_type": "code",
   "execution_count": null,
   "metadata": {
    "collapsed": true
   },
   "outputs": [],
   "source": []
  }
 ],
 "metadata": {
  "kernelspec": {
   "display_name": "Python 2",
   "language": "python",
   "name": "python2"
  },
  "language_info": {
   "codemirror_mode": {
    "name": "ipython",
    "version": 2
   },
   "file_extension": ".py",
   "mimetype": "text/x-python",
   "name": "python",
   "nbconvert_exporter": "python",
   "pygments_lexer": "ipython2",
   "version": "2.7.10"
  }
 },
 "nbformat": 4,
 "nbformat_minor": 0
}
