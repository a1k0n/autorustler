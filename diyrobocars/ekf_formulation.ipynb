{
 "cells": [
  {
   "cell_type": "code",
   "execution_count": 2,
   "metadata": {
    "collapsed": true
   },
   "outputs": [],
   "source": [
    "import numpy as np\n",
    "import matplotlib.pyplot as plt\n",
    "import sympy as sp\n",
    "%matplotlib inline\n",
    "sp.init_printing()"
   ]
  },
  {
   "cell_type": "code",
   "execution_count": 348,
   "metadata": {
    "collapsed": true
   },
   "outputs": [],
   "source": [
    "# formulation w/ neat latex / greek symbols\n",
    "\n",
    "f, h, s, ye, psie, w, xk, v, k, dt = sp.symbols(\"f, h, s, y_e, \\psi_e, \\omega, x_k, v, \\kappa, \\delta_t\", real=True)\n",
    "Cv, Tv, Cs, Ts, u_steering, u_acceleration = sp.symbols(\"C_v, T_v, C_s, T_s, u_\\delta, u_a\", real=True)\n",
    "mu_s, mu_g, mu_ax, mu_ay = sp.symbols(\"\\mu_\\delta \\mu_g, \\mu_{a_x}, \\mu_{a_y}\", real=True)\n",
    "c = sp.symbols(\"c\", function=True)  # c(s) returns the curvature (1/radius) of the turn at track location s"
   ]
  },
  {
   "cell_type": "code",
   "execution_count": 3,
   "metadata": {
    "collapsed": false
   },
   "outputs": [],
   "source": [
    "# source code friendly formulation\n",
    "\n",
    "f, h, s, ye, psie, w, xk, v, k, dt = sp.symbols(\"f, h, s, ye, psie, w, xk, v, k, dt\", real=True)\n",
    "Cv, Tv, Cs, Ts, u_steering, u_acceleration = sp.symbols(\"Cv, Tv, Cs, Ts, u_steering, u_acceleration\", real=True)\n",
    "mu_s, mu_g, mu_ax, mu_ay = sp.symbols(\"mu_s mu_g mu_ax, mu_ay\", real=True)\n",
    "c = sp.symbols(\"c\", function=True)"
   ]
  },
  {
   "cell_type": "code",
   "execution_count": 4,
   "metadata": {
    "collapsed": false
   },
   "outputs": [
    {
     "data": {
      "image/png": "[encoded data removed]",
      "text/latex": [
       "$$\\left ( f, \\quad h, \\quad ye, \\quad psie, \\quad w, \\quad xk, \\quad v, \\quad k, \\quad dt\\right )$$"
      ],
      "text/plain": [
       "(f, h, ye, psie, w, xk, v, k, dt)"
      ]
     },
     "execution_count": 4,
     "metadata": {},
     "output_type": "execute_result"
    }
   ],
   "source": [
    "f, h, ye, psie, w, xk, v, k, dt"
   ]
  },
  {
   "cell_type": "code",
   "execution_count": 5,
   "metadata": {
    "collapsed": false
   },
   "outputs": [
    {
     "data": {
      "image/png": "[encoded data removed]",
      "text/latex": [
       "$$\\left ( Cv, \\quad Tv, \\quad Cs, \\quad Ts, \\quad u_{steering}, \\quad u_{acceleration}\\right )$$"
      ],
      "text/plain": [
       "(Cv, Tv, Cs, Ts, u_steering, u_acceleration)"
      ]
     },
     "execution_count": 5,
     "metadata": {},
     "output_type": "execute_result"
    }
   ],
   "source": [
    "Cv, Tv, Cs, Ts, u_steering, u_acceleration"
   ]
  },
  {
   "cell_type": "code",
   "execution_count": 6,
   "metadata": {
    "collapsed": false
   },
   "outputs": [
    {
     "data": {
      "image/png": "[encoded data removed]",
      "text/latex": [
       "$$\\left ( \\mu_{s}, \\quad \\mu_{g}, \\quad \\mu_{ax}, \\quad \\mu_{ay}\\right )$$"
      ],
      "text/plain": [
       "(μ_s, μ_g, μₐₓ, μ_ay)"
      ]
     },
     "execution_count": 6,
     "metadata": {},
     "output_type": "execute_result"
    }
   ],
   "source": [
    "mu_s, mu_g, mu_ax, mu_ay  # steering and gyroscope bias"
   ]
  },
  {
   "cell_type": "code",
   "execution_count": 10,
   "metadata": {
    "collapsed": false
   },
   "outputs": [
    {
     "data": {
      "text/latex": [
       "$$\\left[\\begin{array}{ccccccccccccc}ye & psie & w & v & k & Cv & Tv & Cs & Ts & \\mu_{s} & \\mu_{g} & \\mu_{ax} & \\mu_{ay}\\end{array}\\right]$$"
      ],
      "text/plain": [
       "[ye  psie  w  v  k  Cv  Tv  Cs  Ts  μ_s  μ_g  μₐₓ  μ_ay]"
      ]
     },
     "execution_count": 10,
     "metadata": {},
     "output_type": "execute_result"
    }
   ],
   "source": [
    "# removed s from state\n",
    "X = sp.Matrix([[ye, psie, w, v, k, Cv, Tv, Cs, Ts, mu_s, mu_g, mu_ax, mu_ay]])\n",
    "X"
   ]
  },
  {
   "cell_type": "code",
   "execution_count": 11,
   "metadata": {
    "collapsed": false
   },
   "outputs": [
    {
     "data": {
      "text/latex": [
       "$$\\left[\\begin{matrix}- dt v \\sin{\\left (psie \\right )} + ye\\\\dt \\left(\\frac{k v \\cos{\\left (psie \\right )}}{- k ye + 1} + w\\right) + psie\\\\dt \\left(v \\left(- \\mu_{s} + u_{steering}\\right) e^{Cs} - w\\right) e^{- Ts} + w\\\\dt \\left(u_{acceleration} e^{Cv} - v\\right) e^{- Tv} + v\\\\k\\\\Cv\\\\Tv\\\\Cs\\\\Ts\\\\\\mu_{s}\\\\\\mu_{g}\\\\\\mu_{ax}\\\\\\mu_{ay}\\end{matrix}\\right]$$"
      ],
      "text/plain": [
       "⎡           -dt⋅v⋅sin(psie) + ye            ⎤\n",
       "⎢                                           ⎥\n",
       "⎢          ⎛k⋅v⋅cos(psie)    ⎞              ⎥\n",
       "⎢       dt⋅⎜───────────── + w⎟ + psie       ⎥\n",
       "⎢          ⎝  -k⋅ye + 1      ⎠              ⎥\n",
       "⎢                                           ⎥\n",
       "⎢   ⎛                       Cs    ⎞  -Ts    ⎥\n",
       "⎢dt⋅⎝v⋅(-μ_s + u_steering)⋅ℯ   - w⎠⋅ℯ    + w⎥\n",
       "⎢                                           ⎥\n",
       "⎢      ⎛                Cv    ⎞  -Tv        ⎥\n",
       "⎢   dt⋅⎝u_acceleration⋅ℯ   - v⎠⋅ℯ    + v    ⎥\n",
       "⎢                                           ⎥\n",
       "⎢                     k                     ⎥\n",
       "⎢                                           ⎥\n",
       "⎢                    Cv                     ⎥\n",
       "⎢                                           ⎥\n",
       "⎢                    Tv                     ⎥\n",
       "⎢                                           ⎥\n",
       "⎢                    Cs                     ⎥\n",
       "⎢                                           ⎥\n",
       "⎢                    Ts                     ⎥\n",
       "⎢                                           ⎥\n",
       "⎢                    μ_s                    ⎥\n",
       "⎢                                           ⎥\n",
       "⎢                    μ_g                    ⎥\n",
       "⎢                                           ⎥\n",
       "⎢                    μₐₓ                    ⎥\n",
       "⎢                                           ⎥\n",
       "⎣                   μ_ay                    ⎦"
      ]
     },
     "execution_count": 11,
     "metadata": {},
     "output_type": "execute_result"
    }
   ],
   "source": [
    "# dynamic state variables f(x)\n",
    "\n",
    "eCv, eTv, eCs, eTs = sp.exp(Cv), sp.exp(Tv), sp.exp(Cs), sp.exp(Ts)\n",
    "fx = sp.Matrix([[\n",
    "            ye - dt*v * sp.sin(psie),\n",
    "            psie + dt*(w + v * k * sp.cos(psie) / (1 - k * ye)),\n",
    "            w + dt*(v*eCs*(u_steering - mu_s) - w) / eTs,\n",
    "            v + dt*(eCv * u_acceleration - v) / eTv,\n",
    "            k, Cv, Tv, Cs, Ts, mu_s, mu_g, mu_ax, mu_ay\n",
    "           ]])\n",
    "fx.T"
   ]
  },
  {
   "cell_type": "code",
   "execution_count": 12,
   "metadata": {
    "collapsed": false
   },
   "outputs": [
    {
     "data": {
      "text/latex": [
       "$$\\left[\\begin{array}{ccccccccccccc}1 & - dt v \\cos{\\left (psie \\right )} & 0 & - dt \\sin{\\left (psie \\right )} & 0 & 0 & 0 & 0 & 0 & 0 & 0 & 0 & 0\\\\\\frac{dt k^{2} v \\cos{\\left (psie \\right )}}{\\left(k ye - 1\\right)^{2}} & \\frac{1}{k ye - 1} \\left(dt k v \\sin{\\left (psie \\right )} + k ye - 1\\right) & dt & - \\frac{dt k \\cos{\\left (psie \\right )}}{k ye - 1} & \\frac{dt v \\cos{\\left (psie \\right )}}{\\left(k ye - 1\\right)^{2}} & 0 & 0 & 0 & 0 & 0 & 0 & 0 & 0\\\\0 & 0 & - dt e^{- Ts} + 1 & - dt \\left(\\mu_{s} - u_{steering}\\right) e^{Cs - Ts} & 0 & 0 & 0 & - dt v \\left(\\mu_{s} - u_{steering}\\right) e^{Cs - Ts} & dt \\left(v \\left(\\mu_{s} - u_{steering}\\right) e^{Cs} + w\\right) e^{- Ts} & - dt v e^{Cs - Ts} & 0 & 0 & 0\\\\0 & 0 & 0 & - dt e^{- Tv} + 1 & 0 & dt u_{acceleration} e^{Cv - Tv} & dt \\left(- u_{acceleration} e^{Cv} + v\\right) e^{- Tv} & 0 & 0 & 0 & 0 & 0 & 0\\\\0 & 0 & 0 & 0 & 1 & 0 & 0 & 0 & 0 & 0 & 0 & 0 & 0\\\\0 & 0 & 0 & 0 & 0 & 1 & 0 & 0 & 0 & 0 & 0 & 0 & 0\\\\0 & 0 & 0 & 0 & 0 & 0 & 1 & 0 & 0 & 0 & 0 & 0 & 0\\\\0 & 0 & 0 & 0 & 0 & 0 & 0 & 1 & 0 & 0 & 0 & 0 & 0\\\\0 & 0 & 0 & 0 & 0 & 0 & 0 & 0 & 1 & 0 & 0 & 0 & 0\\\\0 & 0 & 0 & 0 & 0 & 0 & 0 & 0 & 0 & 1 & 0 & 0 & 0\\\\0 & 0 & 0 & 0 & 0 & 0 & 0 & 0 & 0 & 0 & 1 & 0 & 0\\\\0 & 0 & 0 & 0 & 0 & 0 & 0 & 0 & 0 & 0 & 0 & 1 & 0\\\\0 & 0 & 0 & 0 & 0 & 0 & 0 & 0 & 0 & 0 & 0 & 0 & 1\\end{array}\\right]$$"
      ],
      "text/plain": [
       "⎡        1                -dt⋅v⋅cos(psie)              0                 -dt⋅s\n",
       "⎢                                                                             \n",
       "⎢    2                                                                        \n",
       "⎢dt⋅k ⋅v⋅cos(psie)  dt⋅k⋅v⋅sin(psie) + k⋅ye - 1                        -dt⋅k⋅c\n",
       "⎢─────────────────  ───────────────────────────       dt               ───────\n",
       "⎢             2               k⋅ye - 1                                     k⋅y\n",
       "⎢   (k⋅ye - 1)                                                                \n",
       "⎢                                                                             \n",
       "⎢                                                      -Ts                    \n",
       "⎢        0                       0               - dt⋅ℯ    + 1  -dt⋅(μ_s - u_s\n",
       "⎢                                                                             \n",
       "⎢                                                                             \n",
       "⎢        0                       0                     0                 - dt⋅\n",
       "⎢                                                                             \n",
       "⎢        0                       0                     0                      \n",
       "⎢                                                                             \n",
       "⎢        0                       0                     0                      \n",
       "⎢                                                                             \n",
       "⎢        0                       0                     0                      \n",
       "⎢                                                                             \n",
       "⎢        0                       0                     0                      \n",
       "⎢                                                                             \n",
       "⎢        0                       0                     0                      \n",
       "⎢                                                                             \n",
       "⎢        0                       0                     0                      \n",
       "⎢                                                                             \n",
       "⎢        0                       0                     0                      \n",
       "⎢                                                                             \n",
       "⎢        0                       0                     0                      \n",
       "⎢                                                                             \n",
       "⎣        0                       0                     0                      \n",
       "\n",
       "in(psie)                 0                     0                              \n",
       "                                                                              \n",
       "                                                                              \n",
       "os(psie)           dt⋅v⋅cos(psie)                                             \n",
       "─────────          ──────────────              0                              \n",
       "e - 1                         2                                               \n",
       "                    (k⋅ye - 1)                                                \n",
       "                                                                              \n",
       "          Cs - Ts                                                             \n",
       "teering)⋅ℯ               0                     0                              \n",
       "                                                                              \n",
       " -Tv                                                  Cv - Tv     ⎛           \n",
       "ℯ    + 1                 0         dt⋅u_acceleration⋅ℯ         dt⋅⎝- u_acceler\n",
       "                                                                              \n",
       " 0                       1                     0                              \n",
       "                                                                              \n",
       " 0                       0                     1                              \n",
       "                                                                              \n",
       " 0                       0                     0                              \n",
       "                                                                              \n",
       " 0                       0                     0                              \n",
       "                                                                              \n",
       " 0                       0                     0                              \n",
       "                                                                              \n",
       " 0                       0                     0                              \n",
       "                                                                              \n",
       " 0                       0                     0                              \n",
       "                                                                              \n",
       " 0                       0                     0                              \n",
       "                                                                              \n",
       " 0                       0                     0                              \n",
       "\n",
       " 0                                   0                                    0   \n",
       "                                                                              \n",
       "                                                                              \n",
       "                                                                              \n",
       " 0                                   0                                    0   \n",
       "                                                                              \n",
       "                                                                              \n",
       "                                                                              \n",
       "                                               Cs - Ts     ⎛                  \n",
       " 0                   -dt⋅v⋅(μ_s - u_steering)⋅ℯ         dt⋅⎝v⋅(μ_s - u_steerin\n",
       "                                                                              \n",
       "       Cv    ⎞  -Tv                                                           \n",
       "ation⋅ℯ   + v⎠⋅ℯ                     0                                    0   \n",
       "                                                                              \n",
       " 0                                   0                                    0   \n",
       "                                                                              \n",
       " 0                                   0                                    0   \n",
       "                                                                              \n",
       " 1                                   0                                    0   \n",
       "                                                                              \n",
       " 0                                   1                                    0   \n",
       "                                                                              \n",
       " 0                                   0                                    1   \n",
       "                                                                              \n",
       " 0                                   0                                    0   \n",
       "                                                                              \n",
       " 0                                   0                                    0   \n",
       "                                                                              \n",
       " 0                                   0                                    0   \n",
       "                                                                              \n",
       " 0                                   0                                    0   \n",
       "\n",
       "                        0         0  0  0⎤\n",
       "                                         ⎥\n",
       "                                         ⎥\n",
       "                                         ⎥\n",
       "                        0         0  0  0⎥\n",
       "                                         ⎥\n",
       "                                         ⎥\n",
       "                                         ⎥\n",
       "    Cs    ⎞  -Ts         Cs - Ts         ⎥\n",
       "g)⋅ℯ   + w⎠⋅ℯ     -dt⋅v⋅ℯ         0  0  0⎥\n",
       "                                         ⎥\n",
       "                                         ⎥\n",
       "                        0         0  0  0⎥\n",
       "                                         ⎥\n",
       "                        0         0  0  0⎥\n",
       "                                         ⎥\n",
       "                        0         0  0  0⎥\n",
       "                                         ⎥\n",
       "                        0         0  0  0⎥\n",
       "                                         ⎥\n",
       "                        0         0  0  0⎥\n",
       "                                         ⎥\n",
       "                        0         0  0  0⎥\n",
       "                                         ⎥\n",
       "                        1         0  0  0⎥\n",
       "                                         ⎥\n",
       "                        0         1  0  0⎥\n",
       "                                         ⎥\n",
       "                        0         0  1  0⎥\n",
       "                                         ⎥\n",
       "                        0         0  0  1⎦"
      ]
     },
     "execution_count": 12,
     "metadata": {},
     "output_type": "execute_result"
    }
   ],
   "source": [
    "Fx = sp.simplify(sp.Matrix([sp.diff(fx, Xj) for Xj in X]).T)\n",
    "Fx"
   ]
  },
  {
   "cell_type": "code",
   "execution_count": 13,
   "metadata": {
    "collapsed": false
   },
   "outputs": [
    {
     "name": "stdout",
     "output_type": "stream",
     "text": [
      "dt = Symbol('dt')\n",
      "v = Symbol('v')\n",
      "psie = Symbol('psie')\n",
      "k = Symbol('k')\n",
      "ye = Symbol('ye')\n",
      "Ts = Symbol('Ts')\n",
      "mu_s = Symbol('mu_s')\n",
      "u_steering = Symbol('u_steering')\n",
      "Cs = Symbol('Cs')\n",
      "w = Symbol('w')\n",
      "Tv = Symbol('Tv')\n",
      "u_acceleration = Symbol('u_acceleration')\n",
      "Cv = Symbol('Cv')\n",
      "e = ImmutableMatrix([[1, -dt*v*cos(psie), 0, -dt*sin(psie), 0, 0, 0, 0, 0, 0, 0, 0, 0], [dt*k**2*v*cos(psie)/(k*ye - 1)**2, (dt*k*v*sin(psie) + k*ye - 1)/(k*ye - 1), dt, -dt*k*cos(psie)/(k*ye - 1), dt*v*cos(psie)/(k*ye - 1)**2, 0, 0, 0, 0, 0, 0, 0, 0], [0, 0, -dt*exp(-Ts) + 1, -dt*(mu_s - u_steering)*exp(Cs - Ts), 0, 0, 0, -dt*v*(mu_s - u_steering)*exp(Cs - Ts), dt*(v*(mu_s - u_steering)*exp(Cs) + w)*exp(-Ts), -dt*v*exp(Cs - Ts), 0, 0, 0], [0, 0, 0, -dt*exp(-Tv) + 1, 0, dt*u_acceleration*exp(Cv - Tv), dt*(-u_acceleration*exp(Cv) + v)*exp(-Tv), 0, 0, 0, 0, 0, 0], [0, 0, 0, 0, 1, 0, 0, 0, 0, 0, 0, 0, 0], [0, 0, 0, 0, 0, 1, 0, 0, 0, 0, 0, 0, 0], [0, 0, 0, 0, 0, 0, 1, 0, 0, 0, 0, 0, 0], [0, 0, 0, 0, 0, 0, 0, 1, 0, 0, 0, 0, 0], [0, 0, 0, 0, 0, 0, 0, 0, 1, 0, 0, 0, 0], [0, 0, 0, 0, 0, 0, 0, 0, 0, 1, 0, 0, 0], [0, 0, 0, 0, 0, 0, 0, 0, 0, 0, 1, 0, 0], [0, 0, 0, 0, 0, 0, 0, 0, 0, 0, 0, 1, 0], [0, 0, 0, 0, 0, 0, 0, 0, 0, 0, 0, 0, 1]])\n"
     ]
    }
   ],
   "source": [
    "sp.print_python(Fx)"
   ]
  },
  {
   "cell_type": "code",
   "execution_count": 25,
   "metadata": {
    "collapsed": false
   },
   "outputs": [
    {
     "data": {
      "text/latex": [
       "$$\\left[\\begin{matrix}\\frac{- x_{CG} \\tan{\\left (psie \\right )} + ye}{\\cos{\\left (psie \\right )}}\\\\\\tan{\\left (psie \\right )}\\\\- 2 k\\end{matrix}\\right]$$"
      ],
      "text/plain": [
       "⎡-x_CG⋅tan(psie) + ye⎤\n",
       "⎢────────────────────⎥\n",
       "⎢     cos(psie)      ⎥\n",
       "⎢                    ⎥\n",
       "⎢     tan(psie)      ⎥\n",
       "⎢                    ⎥\n",
       "⎣        -2⋅k        ⎦"
      ]
     },
     "execution_count": 25,
     "metadata": {},
     "output_type": "execute_result"
    }
   ],
   "source": [
    "# h\n",
    "x_cg = sp.symbols(\"x_CG\")\n",
    "hx = sp.Matrix([\n",
    "        [(ye - x_cg*sp.tan(psie)) / sp.cos(psie),\n",
    "         sp.tan(psie),\n",
    "         -2*k\n",
    "        ]])  # fitting x = a + by + cy^2\n",
    "hx.T"
   ]
  },
  {
   "cell_type": "code",
   "execution_count": 26,
   "metadata": {
    "collapsed": false
   },
   "outputs": [
    {
     "name": "stdout",
     "output_type": "stream",
     "text": [
      "psie = Symbol('psie')\n",
      "x_CG = Symbol('x_CG')\n",
      "ye = Symbol('ye')\n",
      "e = ImmutableMatrix([[1/cos(psie), (x_CG - 2*x_CG/cos(psie)**2 + ye*tan(psie))/cos(psie), 0, 0, 0, 0, 0, 0, 0, 0, 0, 0, 0], [0, cos(psie)**(-2), 0, 0, 0, 0, 0, 0, 0, 0, 0, 0, 0], [0, 0, 0, 0, -2, 0, 0, 0, 0, 0, 0, 0, 0]])\n"
     ]
    },
    {
     "data": {
      "text/latex": [
       "$$\\left[\\begin{array}{ccccccccccccc}\\frac{1}{\\cos{\\left (psie \\right )}} & \\frac{1}{\\cos{\\left (psie \\right )}} \\left(x_{CG} - \\frac{2 x_{CG}}{\\cos^{2}{\\left (psie \\right )}} + ye \\tan{\\left (psie \\right )}\\right) & 0 & 0 & 0 & 0 & 0 & 0 & 0 & 0 & 0 & 0 & 0\\\\0 & \\frac{1}{\\cos^{2}{\\left (psie \\right )}} & 0 & 0 & 0 & 0 & 0 & 0 & 0 & 0 & 0 & 0 & 0\\\\0 & 0 & 0 & 0 & -2 & 0 & 0 & 0 & 0 & 0 & 0 & 0 & 0\\end{array}\\right]$$"
      ],
      "text/plain": [
       "⎡                    2⋅x_CG                                                   \n",
       "⎢           x_CG - ────────── + ye⋅tan(psie)                                  \n",
       "⎢                     2                                                       \n",
       "⎢    1             cos (psie)                                                 \n",
       "⎢─────────  ────────────────────────────────  0  0  0   0  0  0  0  0  0  0  0\n",
       "⎢cos(psie)             cos(psie)                                              \n",
       "⎢                                                                             \n",
       "⎢                          1                                                  \n",
       "⎢    0                 ──────────             0  0  0   0  0  0  0  0  0  0  0\n",
       "⎢                         2                                                   \n",
       "⎢                      cos (psie)                                             \n",
       "⎢                                                                             \n",
       "⎣    0                     0                  0  0  -2  0  0  0  0  0  0  0  0\n",
       "\n",
       "⎤\n",
       "⎥\n",
       "⎥\n",
       "⎥\n",
       "⎥\n",
       "⎥\n",
       "⎥\n",
       "⎥\n",
       "⎥\n",
       "⎥\n",
       "⎥\n",
       "⎥\n",
       "⎦"
      ]
     },
     "execution_count": 26,
     "metadata": {},
     "output_type": "execute_result"
    }
   ],
   "source": [
    "# H\n",
    "Hx = sp.simplify(sp.Matrix([sp.diff(hx, Xj) for Xj in X]).T)\n",
    "sp.print_python(Hx.subs([(psie, \"psie\"), (ye, \"ye\")]))\n",
    "Hx"
   ]
  },
  {
   "cell_type": "code",
   "execution_count": null,
   "metadata": {
    "collapsed": false
   },
   "outputs": [],
   "source": []
  },
  {
   "cell_type": "code",
   "execution_count": 16,
   "metadata": {
    "collapsed": false
   },
   "outputs": [
    {
     "data": {
      "text/latex": [
       "$$\\left[\\begin{array}{ccccccccccccc}ye & psie & w & v & k & Cv & Tv & Cs & Ts & \\mu_{s} & \\mu_{g} & \\mu_{ax} & \\mu_{ay}\\end{array}\\right]$$"
      ],
      "text/plain": [
       "[ye  psie  w  v  k  Cv  Tv  Cs  Ts  μ_s  μ_g  μₐₓ  μ_ay]"
      ]
     },
     "execution_count": 16,
     "metadata": {},
     "output_type": "execute_result"
    }
   ],
   "source": [
    "X"
   ]
  },
  {
   "cell_type": "code",
   "execution_count": 17,
   "metadata": {
    "collapsed": false
   },
   "outputs": [
    {
     "data": {
      "text/latex": [
       "$$\\left[\\begin{matrix}\\mu_{g} + w\\\\\\mu_{ax} + v w\\\\\\mu_{ay} + \\left(- u_{acceleration} e^{Cv} + v\\right) e^{- Tv}\\end{matrix}\\right]$$"
      ],
      "text/plain": [
       "⎡               μ_g + w                ⎤\n",
       "⎢                                      ⎥\n",
       "⎢              μₐₓ + v⋅w               ⎥\n",
       "⎢                                      ⎥\n",
       "⎢       ⎛                  Cv    ⎞  -Tv⎥\n",
       "⎣μ_ay + ⎝- u_acceleration⋅ℯ   + v⎠⋅ℯ   ⎦"
      ]
     },
     "execution_count": 17,
     "metadata": {},
     "output_type": "execute_result"
    }
   ],
   "source": [
    "# measure gyro_z, accel_x, accel_y\n",
    "h_imu = sp.Matrix([[\n",
    "            w + mu_g,\n",
    "            v*w + mu_ax,\n",
    "            -(sp.exp(Cv) * u_acceleration - v) / sp.exp(Tv) + mu_ay,\n",
    "        ]])\n",
    "h_imu.T"
   ]
  },
  {
   "cell_type": "code",
   "execution_count": 18,
   "metadata": {
    "collapsed": false
   },
   "outputs": [
    {
     "data": {
      "text/latex": [
       "$$\\left[\\begin{array}{ccccccccccccc}0 & 0 & 1 & 0 & 0 & 0 & 0 & 0 & 0 & 0 & 1 & 0 & 0\\\\0 & 0 & v & w & 0 & 0 & 0 & 0 & 0 & 0 & 0 & 1 & 0\\\\0 & 0 & 0 & e^{- Tv} & 0 & - u_{acceleration} e^{Cv - Tv} & \\left(u_{acceleration} e^{Cv} - v\\right) e^{- Tv} & 0 & 0 & 0 & 0 & 0 & 1\\end{array}\\right]$$"
      ],
      "text/plain": [
       "⎡0  0  1   0    0             0                            0                0 \n",
       "⎢                                                                             \n",
       "⎢0  0  v   w    0             0                            0                0 \n",
       "⎢                                                                             \n",
       "⎢          -Tv                      Cv - Tv  ⎛                Cv    ⎞  -Tv    \n",
       "⎣0  0  0  ℯ     0  -u_acceleration⋅ℯ         ⎝u_acceleration⋅ℯ   - v⎠⋅ℯ     0 \n",
       "\n",
       " 0  0  1  0  0⎤\n",
       "              ⎥\n",
       " 0  0  0  1  0⎥\n",
       "              ⎥\n",
       "              ⎥\n",
       " 0  0  0  0  1⎦"
      ]
     },
     "execution_count": 18,
     "metadata": {},
     "output_type": "execute_result"
    }
   ],
   "source": [
    "H_imu = sp.simplify(sp.Matrix([sp.diff(h_imu, Xj) for Xj in X]).T)\n",
    "H_imu"
   ]
  },
  {
   "cell_type": "code",
   "execution_count": 19,
   "metadata": {
    "collapsed": false
   },
   "outputs": [
    {
     "name": "stdout",
     "output_type": "stream",
     "text": [
      "v = Symbol('v')\n",
      "w = Symbol('w')\n",
      "Tv = Symbol('Tv')\n",
      "u_acceleration = Symbol('u_acceleration')\n",
      "Cv = Symbol('Cv')\n",
      "e = ImmutableMatrix([[0, 0, 1, 0, 0, 0, 0, 0, 0, 0, 1, 0, 0], [0, 0, v, w, 0, 0, 0, 0, 0, 0, 0, 1, 0], [0, 0, 0, exp(-Tv), 0, -u_acceleration*exp(Cv - Tv), (u_acceleration*exp(Cv) - v)*exp(-Tv), 0, 0, 0, 0, 0, 1]])\n"
     ]
    }
   ],
   "source": [
    "sp.print_python(H_imu)"
   ]
  },
  {
   "cell_type": "code",
   "execution_count": 409,
   "metadata": {
    "collapsed": false
   },
   "outputs": [
    {
     "name": "stdout",
     "output_type": "stream",
     "text": [
      "e = ImmutableMatrix([[1, 0, 0, 0, 0, 0, 0, 0, 0, 0, 0, 0, 0, 0], [0, 0, 0, 0, 0, 1, 0, 0, 0, 0, 0, 0, 0, 0]])\n"
     ]
    },
    {
     "data": {
      "text/latex": [
       "$$\\left[\\begin{array}{cccccccccccccc}1 & 0 & 0 & 0 & 0 & 0 & 0 & 0 & 0 & 0 & 0 & 0 & 0 & 0\\\\0 & 0 & 0 & 0 & 0 & 1 & 0 & 0 & 0 & 0 & 0 & 0 & 0 & 0\\end{array}\\right]$$"
      ],
      "text/plain": [
       "⎡1  0  0  0  0  0  0  0  0  0  0  0  0  0⎤\n",
       "⎢                                        ⎥\n",
       "⎣0  0  0  0  0  1  0  0  0  0  0  0  0  0⎦"
      ]
     },
     "execution_count": 409,
     "metadata": {},
     "output_type": "execute_result"
    }
   ],
   "source": [
    "h_s = sp.Matrix([[s, k]])\n",
    "H_s = sp.simplify(sp.Matrix([sp.diff(h_s, Xj) for Xj in X]).T)\n",
    "sp.print_python(H_s)\n",
    "H_s"
   ]
  },
  {
   "cell_type": "code",
   "execution_count": null,
   "metadata": {
    "collapsed": false
   },
   "outputs": [],
   "source": [
    "# so S is just P[0,0] + variance(s)\n",
    "# which means K is the left column of P (P H.T) divided by P[0,0] + variance(s)\n",
    "# so as our estimate of s is refined, everything else is affected too by the covariance in P."
   ]
  },
  {
   "cell_type": "code",
   "execution_count": 332,
   "metadata": {
    "collapsed": false
   },
   "outputs": [
    {
     "data": {
      "text/latex": [
       "$$\\left[\\begin{matrix}1 & \\frac{dt v ye \\cos{\\left (psie \\right )}}{\\left(k ye - 1\\right)^{2}}\\\\\\frac{dt v ye \\cos{\\left (psie \\right )}}{\\left(k ye - 1\\right)^{2}} & \\frac{dt^{2} v^{2} ye^{2} \\cos^{2}{\\left (psie \\right )}}{\\left(k ye - 1\\right)^{4}} + \\frac{dt^{2} v^{2} \\cos^{2}{\\left (psie \\right )}}{\\left(k ye - 1\\right)^{4}} + 1\\end{matrix}\\right]$$"
      ],
      "text/plain": [
       "⎡                                 dt⋅v⋅ye⋅cos(psie)              ⎤\n",
       "⎢        1                        ─────────────────              ⎥\n",
       "⎢                                              2                 ⎥\n",
       "⎢                                    (k⋅ye - 1)                  ⎥\n",
       "⎢                                                                ⎥\n",
       "⎢                     2  2   2    2           2  2    2          ⎥\n",
       "⎢dt⋅v⋅ye⋅cos(psie)  dt ⋅v ⋅ye ⋅cos (psie)   dt ⋅v ⋅cos (psie)    ⎥\n",
       "⎢─────────────────  ───────────────────── + ───────────────── + 1⎥\n",
       "⎢             2                    4                     4       ⎥\n",
       "⎣   (k⋅ye - 1)           (k⋅ye - 1)            (k⋅ye - 1)        ⎦"
      ]
     },
     "execution_count": 332,
     "metadata": {},
     "output_type": "execute_result"
    }
   ],
   "source": [
    "H_s * Fx.T * Fx * H_s.T"
   ]
  },
  {
   "cell_type": "code",
   "execution_count": null,
   "metadata": {
    "collapsed": false
   },
   "outputs": [],
   "source": []
  },
  {
   "cell_type": "code",
   "execution_count": 377,
   "metadata": {
    "collapsed": false
   },
   "outputs": [
    {
     "data": {
      "image/png": "[encoded data removed]",
      "text/latex": [
       "$$\\left(- p_{x} - y_{e} e^{i \\psi_e} - \\frac{i}{\\kappa} \\left(e^{i \\kappa s} - 1\\right) e^{i \\psi_e}\\right)^{2}$$"
      ],
      "text/plain": [
       "                                                  2\n",
       "⎛                      ⎛ ⅈ⋅\\kappa⋅s    ⎞  ⅈ⋅\\psiₑ⎞ \n",
       "⎜          ⅈ⋅\\psiₑ   ⅈ⋅⎝ℯ           - 1⎠⋅ℯ       ⎟ \n",
       "⎜-pₓ - yₑ⋅ℯ        - ────────────────────────────⎟ \n",
       "⎝                               \\kappa           ⎠ "
      ]
     },
     "execution_count": 377,
     "metadata": {},
     "output_type": "execute_result"
    }
   ],
   "source": [
    "# regression on curve given pixels\n",
    "px, c = sp.symbols(\"p_x, c\", complex=True)\n",
    "p = (-ye*sp.exp(sp.I*psie) - sp.I/k * sp.exp(sp.I*psie) * (sp.exp(sp.I*k*s) - 1))\n",
    "(p - px)**2"
   ]
  },
  {
   "cell_type": "code",
   "execution_count": 376,
   "metadata": {
    "collapsed": false
   },
   "outputs": [
    {
     "data": {
      "text/latex": [
       "$$\\left[\\begin{matrix}- \\frac{2}{\\kappa^{3}} \\left(\\kappa \\left(p_{x} + y_{e} e^{i \\psi_e}\\right) + i \\left(e^{i \\kappa s} - 1\\right) e^{i \\psi_e}\\right) \\left(\\kappa s e^{i \\left(\\kappa s + \\psi_e\\right)} + i \\left(e^{i \\kappa s} - 1\\right) e^{i \\psi_e}\\right)\\\\\\frac{2}{\\kappa^{2}} \\left(\\kappa \\left(p_{x} + y_{e} e^{i \\psi_e}\\right) + i \\left(e^{i \\kappa s} - 1\\right) e^{i \\psi_e}\\right) \\left(i \\kappa y_{e} - e^{i \\kappa s} + 1\\right) e^{i \\psi_e}\\\\\\frac{2}{\\kappa} \\left(\\kappa \\left(p_{x} + y_{e} e^{i \\psi_e}\\right) + i \\left(e^{i \\kappa s} - 1\\right) e^{i \\psi_e}\\right) e^{i \\psi_e}\\\\- \\frac{2}{\\kappa} \\left(\\kappa \\left(p_{x} + y_{e} e^{i \\psi_e}\\right) + i \\left(e^{i \\kappa s} - 1\\right) e^{i \\psi_e}\\right) e^{i \\left(\\kappa s + \\psi_e\\right)}\\end{matrix}\\right]$$"
      ],
      "text/plain": [
       "⎡   ⎛       ⎛         ⅈ⋅\\psiₑ⎞     ⎛ ⅈ⋅\\kappa⋅s    ⎞  ⅈ⋅\\psiₑ⎞ ⎛          ⅈ⋅(\\\n",
       "⎢-2⋅⎝\\kappa⋅⎝pₓ + yₑ⋅ℯ       ⎠ + ⅈ⋅⎝ℯ           - 1⎠⋅ℯ       ⎠⋅⎝\\kappa⋅s⋅ℯ    \n",
       "⎢─────────────────────────────────────────────────────────────────────────────\n",
       "⎢                                                                 3           \n",
       "⎢                                                           \\kappa            \n",
       "⎢                                                                             \n",
       "⎢              ⎛       ⎛         ⅈ⋅\\psiₑ⎞     ⎛ ⅈ⋅\\kappa⋅s    ⎞  ⅈ⋅\\psiₑ⎞ ⎛   \n",
       "⎢            2⋅⎝\\kappa⋅⎝pₓ + yₑ⋅ℯ       ⎠ + ⅈ⋅⎝ℯ           - 1⎠⋅ℯ       ⎠⋅⎝ⅈ⋅\\\n",
       "⎢            ─────────────────────────────────────────────────────────────────\n",
       "⎢                                                                 2           \n",
       "⎢                                                           \\kappa            \n",
       "⎢                                                                             \n",
       "⎢                              ⎛       ⎛         ⅈ⋅\\psiₑ⎞     ⎛ ⅈ⋅\\kappa⋅s    \n",
       "⎢                            2⋅⎝\\kappa⋅⎝pₓ + yₑ⋅ℯ       ⎠ + ⅈ⋅⎝ℯ           - 1\n",
       "⎢                            ─────────────────────────────────────────────────\n",
       "⎢                                                            \\kappa           \n",
       "⎢                                                                             \n",
       "⎢                        ⎛       ⎛         ⅈ⋅\\psiₑ⎞     ⎛ ⅈ⋅\\kappa⋅s    ⎞  ⅈ⋅\\\n",
       "⎢                     -2⋅⎝\\kappa⋅⎝pₓ + yₑ⋅ℯ       ⎠ + ⅈ⋅⎝ℯ           - 1⎠⋅ℯ   \n",
       "⎢                     ────────────────────────────────────────────────────────\n",
       "⎣                                                            \\kappa           \n",
       "\n",
       "kappa⋅s + \\psiₑ)     ⎛ ⅈ⋅\\kappa⋅s    ⎞  ⅈ⋅\\psiₑ⎞ ⎤\n",
       "                 + ⅈ⋅⎝ℯ           - 1⎠⋅ℯ       ⎠ ⎥\n",
       "─────────────────────────────────────────────────⎥\n",
       "                                                 ⎥\n",
       "                                                 ⎥\n",
       "                                                 ⎥\n",
       "            ⅈ⋅\\kappa⋅s    ⎞  ⅈ⋅\\psiₑ             ⎥\n",
       "kappa⋅yₑ - ℯ           + 1⎠⋅ℯ                    ⎥\n",
       "────────────────────────────────────             ⎥\n",
       "                                                 ⎥\n",
       "                                                 ⎥\n",
       "                                                 ⎥\n",
       "⎞  ⅈ⋅\\psiₑ⎞  ⅈ⋅\\psiₑ                             ⎥\n",
       "⎠⋅ℯ       ⎠⋅ℯ                                    ⎥\n",
       "────────────────────                             ⎥\n",
       "                                                 ⎥\n",
       "                                                 ⎥\n",
       "psiₑ⎞  ⅈ⋅(\\kappa⋅s + \\psiₑ)                      ⎥\n",
       "    ⎠⋅ℯ                                          ⎥\n",
       "────────────────────────────                     ⎥\n",
       "                                                 ⎦"
      ]
     },
     "execution_count": 376,
     "metadata": {},
     "output_type": "execute_result"
    }
   ],
   "source": [
    "sp.simplify(sp.Matrix([sp.diff((p - px)**2, x) for x in [k, psie, ye, s]]))"
   ]
  },
  {
   "cell_type": "code",
   "execution_count": 385,
   "metadata": {
    "collapsed": false
   },
   "outputs": [
    {
     "data": {
      "image/png": "[encoded data removed]",
      "text/latex": [
       "$$\\left(- c + p_{x} + \\frac{e^{i \\theta_x}}{\\kappa}\\right)^{2}$$"
      ],
      "text/plain": [
       "                      2\n",
       "⎛           ⅈ⋅\\thetaₓ⎞ \n",
       "⎜          ℯ         ⎟ \n",
       "⎜-c + pₓ + ──────────⎟ \n",
       "⎝            \\kappa  ⎠ "
      ]
     },
     "execution_count": 385,
     "metadata": {},
     "output_type": "execute_result"
    }
   ],
   "source": [
    "px, c = sp.symbols(\"p_x, c\", complex=True)\n",
    "thetax = sp.symbols('\\\\theta_x', real=True)\n",
    "\n",
    "(px - c + sp.exp(sp.I * thetax) / k)**2"
   ]
  },
  {
   "cell_type": "code",
   "execution_count": 391,
   "metadata": {
    "collapsed": false
   },
   "outputs": [
    {
     "data": {
      "text/latex": [
       "$$\\left[\\begin{matrix}2 c - 2 p_{x} - \\frac{2}{\\kappa} e^{i \\theta_x}\\\\- 2 c + 2 p_{x} + \\frac{2}{\\kappa} e^{i \\theta_x}\\\\\\frac{2 i}{\\kappa} \\left(- c + p_{x} + \\frac{e^{i \\theta_x}}{\\kappa}\\right) e^{i \\theta_x}\\\\- \\frac{2}{\\kappa^{2}} \\left(- c + p_{x} + \\frac{e^{i \\theta_x}}{\\kappa}\\right) e^{i \\theta_x}\\end{matrix}\\right]$$"
      ],
      "text/plain": [
       "⎡                      ⅈ⋅\\thetaₓ      ⎤\n",
       "⎢                   2⋅ℯ               ⎥\n",
       "⎢      2⋅c - 2⋅pₓ - ────────────      ⎥\n",
       "⎢                      \\kappa         ⎥\n",
       "⎢                                     ⎥\n",
       "⎢                      ⅈ⋅\\thetaₓ      ⎥\n",
       "⎢                   2⋅ℯ               ⎥\n",
       "⎢     -2⋅c + 2⋅pₓ + ────────────      ⎥\n",
       "⎢                      \\kappa         ⎥\n",
       "⎢                                     ⎥\n",
       "⎢    ⎛           ⅈ⋅\\thetaₓ⎞           ⎥\n",
       "⎢    ⎜          ℯ         ⎟  ⅈ⋅\\thetaₓ⎥\n",
       "⎢2⋅ⅈ⋅⎜-c + pₓ + ──────────⎟⋅ℯ         ⎥\n",
       "⎢    ⎝            \\kappa  ⎠           ⎥\n",
       "⎢─────────────────────────────────────⎥\n",
       "⎢                \\kappa               ⎥\n",
       "⎢                                     ⎥\n",
       "⎢   ⎛           ⅈ⋅\\thetaₓ⎞            ⎥\n",
       "⎢   ⎜          ℯ         ⎟  ⅈ⋅\\thetaₓ ⎥\n",
       "⎢-2⋅⎜-c + pₓ + ──────────⎟⋅ℯ          ⎥\n",
       "⎢   ⎝            \\kappa  ⎠            ⎥\n",
       "⎢─────────────────────────────────────⎥\n",
       "⎢                     2               ⎥\n",
       "⎣               \\kappa                ⎦"
      ]
     },
     "execution_count": 391,
     "metadata": {},
     "output_type": "execute_result"
    }
   ],
   "source": [
    "(sp.Matrix([sp.diff((px - c + sp.exp(sp.I * thetax) / k)**2, x) for x in [c, px, thetax, k]]))"
   ]
  },
  {
   "cell_type": "code",
   "execution_count": 421,
   "metadata": {
    "collapsed": false
   },
   "outputs": [
    {
     "data": {
      "image/png": "[encoded data removed]",
      "text/latex": [
       "$$- \\frac{k^{2}}{\\left(k^{2} - p_{x}^{2}\\right)^{\\frac{3}{2}}}$$"
      ],
      "text/plain": [
       "       2     \n",
       "     -k      \n",
       "─────────────\n",
       "          3/2\n",
       "⎛ 2     2⎞   \n",
       "⎝k  - pₓ ⎠   "
      ]
     },
     "execution_count": 421,
     "metadata": {},
     "output_type": "execute_result"
    }
   ],
   "source": [
    "sp.simplify(sp.diff(sp.sqrt(k**2 - px**2), px, px))"
   ]
  },
  {
   "cell_type": "code",
   "execution_count": 426,
   "metadata": {
    "collapsed": false
   },
   "outputs": [],
   "source": [
    "# -> -1/r. ok. confirmed."
   ]
  },
  {
   "cell_type": "code",
   "execution_count": null,
   "metadata": {
    "collapsed": true
   },
   "outputs": [],
   "source": []
  }
 ],
 "metadata": {
  "kernelspec": {
   "display_name": "Python 2",
   "language": "python",
   "name": "python2"
  },
  "language_info": {
   "codemirror_mode": {
    "name": "ipython",
    "version": 2
   },
   "file_extension": ".py",
   "mimetype": "text/x-python",
   "name": "python",
   "nbconvert_exporter": "python",
   "pygments_lexer": "ipython2",
   "version": "2.7.10"
  }
 },
 "nbformat": 4,
 "nbformat_minor": 0
}
