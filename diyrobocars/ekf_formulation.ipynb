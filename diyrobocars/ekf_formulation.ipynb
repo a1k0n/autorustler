{
 "cells": [
  {
   "cell_type": "code",
   "execution_count": 1,
   "metadata": {
    "collapsed": true
   },
   "outputs": [],
   "source": [
    "import numpy as np\n",
    "import matplotlib.pyplot as plt\n",
    "import sympy as sp\n",
    "%matplotlib inline\n",
    "sp.init_printing()"
   ]
  },
  {
   "cell_type": "code",
   "execution_count": 2,
   "metadata": {
    "collapsed": false
   },
   "outputs": [
    {
     "data": {
      "text/plain": [
       "[<matplotlib.lines.Line2D at 0x10b102090>]"
      ]
     },
     "execution_count": 2,
     "metadata": {},
     "output_type": "execute_result"
    },
    {
     "data": {
      "image/png": "[encoded data removed]",
      "text/plain": [
       "<matplotlib.figure.Figure at 0x10b102050>"
      ]
     },
     "metadata": {},
     "output_type": "display_data"
    }
   ],
   "source": [
    "X = np.vstack([np.linspace(-10, 0, 20), np.ones(20)]).T\n",
    "y = np.linspace(-1, 1, 20) + np.random.randn(20)*0.1\n",
    "B = np.linalg.solve(np.dot(X.T, X), np.dot(X.T, y))\n",
    "\n",
    "plt.plot(X[:, 0], y, '.')\n",
    "\n",
    "plt.plot(X[:, 0], np.dot(X, B), '--')"
   ]
  },
  {
   "cell_type": "code",
   "execution_count": 105,
   "metadata": {
    "collapsed": false
   },
   "outputs": [
    {
     "data": {
      "text/plain": [
       "array([[ 0.00542857,  0.02714286],\n",
       "       [ 0.02714286,  0.18571429]])"
      ]
     },
     "execution_count": 105,
     "metadata": {},
     "output_type": "execute_result"
    }
   ],
   "source": [
    "np.linalg.inv(np.dot(X.T, X))"
   ]
  },
  {
   "cell_type": "code",
   "execution_count": 106,
   "metadata": {
    "collapsed": false
   },
   "outputs": [
    {
     "data": {
      "text/plain": [
       "array([ 0.20507151,  0.99950092])"
      ]
     },
     "execution_count": 106,
     "metadata": {},
     "output_type": "execute_result"
    }
   ],
   "source": [
    "B"
   ]
  },
  {
   "cell_type": "code",
   "execution_count": 95,
   "metadata": {
    "collapsed": false
   },
   "outputs": [
    {
     "data": {
      "text/plain": [
       "array([ 0.27559026,  0.09567109,  0.43089431, -0.10237317,  0.04768405,\n",
       "        0.03102591, -0.20429733,  0.03103837, -0.1550533 , -0.26963858,\n",
       "       -0.05420966, -0.08228222, -0.20143815, -0.0459794 , -0.12005627,\n",
       "       -0.07579049,  0.07817814,  0.00498967,  0.20671372,  0.10933305])"
      ]
     },
     "execution_count": 95,
     "metadata": {},
     "output_type": "execute_result"
    }
   ],
   "source": [
    "np.dot(X, B).T - y"
   ]
  },
  {
   "cell_type": "code",
   "execution_count": 96,
   "metadata": {
    "collapsed": false
   },
   "outputs": [
    {
     "data": {
      "text/plain": [
       "0.55731594973926846"
      ]
     },
     "execution_count": 96,
     "metadata": {},
     "output_type": "execute_result"
    }
   ],
   "source": [
    "np.dot((np.dot(X, B) - y).T, np.dot(X, B) - y)"
   ]
  },
  {
   "cell_type": "code",
   "execution_count": 97,
   "metadata": {
    "collapsed": false
   },
   "outputs": [
    {
     "data": {
      "text/plain": [
       "0.55731594973926679"
      ]
     },
     "execution_count": 97,
     "metadata": {},
     "output_type": "execute_result"
    }
   ],
   "source": [
    "np.dot(B.T, np.dot(np.dot(X.T, X), B)) - 2*np.dot(np.dot(X, B).T, y) + np.dot(y.T, y)"
   ]
  },
  {
   "cell_type": "code",
   "execution_count": 98,
   "metadata": {
    "collapsed": false
   },
   "outputs": [
    {
     "data": {
      "text/plain": [
       "array([[ 0.00247118,  0.        ],\n",
       "       [-0.08454053,  0.07769152]])"
      ]
     },
     "execution_count": 98,
     "metadata": {},
     "output_type": "execute_result"
    }
   ],
   "source": [
    "np.linalg.cholesky(np.linalg.inv(np.dot(X.T, X))*Out[68])"
   ]
  },
  {
   "cell_type": "code",
   "execution_count": 167,
   "metadata": {
    "collapsed": true
   },
   "outputs": [],
   "source": [
    "# formulation w/ neat latex / greek symbols\n",
    "\n",
    "f, h, ye, psie, w, xk, v, k, dt = sp.symbols(\"f, h, y_e, \\psi_e, \\omega, x_k, v, \\kappa, \\delta_t\")\n",
    "Cv, Tv, Cs, Ts, u_steering, u_acceleration = sp.symbols(\"C_v, T_v, C_s, T_s, u_\\delta, u_a\")\n",
    "mu_s, mu_g, mu_ax, mu_ay = sp.symbols(\"\\mu_\\delta \\mu_g, \\mu_{a_x}, \\mu_{a_y}\")"
   ]
  },
  {
   "cell_type": "code",
   "execution_count": 217,
   "metadata": {
    "collapsed": false
   },
   "outputs": [],
   "source": [
    "# source code friendly formulation\n",
    "\n",
    "f, h, ye, psie, w, xk, v, k, dt = sp.symbols(\"f, h, ye, psie, w, xk, v, k, dt\")\n",
    "Cv, Tv, Cs, Ts, u_steering, u_acceleration = sp.symbols(\"Cv, Tv, Cs, Ts, u_steering, u_acceleration\")\n",
    "mu_s, mu_g, mu_ax, mu_ay = sp.symbols(\"mu_s mu_g mu_ax, mu_ay\")"
   ]
  },
  {
   "cell_type": "code",
   "execution_count": 218,
   "metadata": {
    "collapsed": false
   },
   "outputs": [
    {
     "data": {
      "image/png": "[encoded data removed]",
      "text/latex": [
       "$$\\left ( f, \\quad h, \\quad ye, \\quad psie, \\quad w, \\quad xk, \\quad v, \\quad k, \\quad dt\\right )$$"
      ],
      "text/plain": [
       "(f, h, ye, psie, w, xk, v, k, dt)"
      ]
     },
     "execution_count": 218,
     "metadata": {},
     "output_type": "execute_result"
    }
   ],
   "source": [
    "f, h, ye, psie, w, xk, v, k, dt"
   ]
  },
  {
   "cell_type": "code",
   "execution_count": 219,
   "metadata": {
    "collapsed": false
   },
   "outputs": [
    {
     "data": {
      "image/png": "[encoded data removed]",
      "text/latex": [
       "$$\\left ( Cv, \\quad Tv, \\quad Cs, \\quad Ts, \\quad u_{steering}, \\quad u_{acceleration}\\right )$$"
      ],
      "text/plain": [
       "(Cv, Tv, Cs, Ts, u_steering, u_acceleration)"
      ]
     },
     "execution_count": 219,
     "metadata": {},
     "output_type": "execute_result"
    }
   ],
   "source": [
    "Cv, Tv, Cs, Ts, u_steering, u_acceleration"
   ]
  },
  {
   "cell_type": "code",
   "execution_count": 220,
   "metadata": {
    "collapsed": false
   },
   "outputs": [
    {
     "data": {
      "image/png": "[encoded data removed]",
      "text/latex": [
       "$$\\left ( \\mu_{s}, \\quad \\mu_{g}, \\quad \\mu_{ax}, \\quad \\mu_{ay}\\right )$$"
      ],
      "text/plain": [
       "(μ_s, μ_g, μₐₓ, μ_ay)"
      ]
     },
     "execution_count": 220,
     "metadata": {},
     "output_type": "execute_result"
    }
   ],
   "source": [
    "mu_s, mu_g, mu_ax, mu_ay  # steering and gyroscope bias"
   ]
  },
  {
   "cell_type": "code",
   "execution_count": 221,
   "metadata": {
    "collapsed": false
   },
   "outputs": [
    {
     "data": {
      "text/latex": [
       "$$\\left[\\begin{array}{ccccccccccccc}ye & psie & w & v & k & Cv & Tv & Cs & Ts & \\mu_{s} & \\mu_{g} & \\mu_{ax} & \\mu_{ay}\\end{array}\\right]$$"
      ],
      "text/plain": [
       "[ye  psie  w  v  k  Cv  Tv  Cs  Ts  μ_s  μ_g  μₐₓ  μ_ay]"
      ]
     },
     "execution_count": 221,
     "metadata": {},
     "output_type": "execute_result"
    }
   ],
   "source": [
    "X = sp.Matrix([[ye, psie, w, v, k, Cv, Tv, Cs, Ts, mu_s, mu_g, mu_ax, mu_ay]])\n",
    "X"
   ]
  },
  {
   "cell_type": "code",
   "execution_count": 236,
   "metadata": {
    "collapsed": false
   },
   "outputs": [
    {
     "data": {
      "text/latex": [
       "$$\\left[\\begin{matrix}- dt v \\sin{\\left (psie \\right )} + ye\\\\dt \\left(\\frac{k v \\cos{\\left (psie \\right )}}{- k ye + 1} + w\\right) + psie\\\\dt \\left(v \\left(- \\mu_{s} + u_{steering}\\right) e^{Cs} - w\\right) e^{- Ts} + w\\\\dt \\left(u_{acceleration} e^{Cv} - v\\right) e^{- Tv} + v\\\\k\\\\Cv\\\\Tv\\\\Cs\\\\Ts\\\\\\mu_{s}\\\\\\mu_{g}\\\\\\mu_{ax}\\\\\\mu_{ay}\\end{matrix}\\right]$$"
      ],
      "text/plain": [
       "⎡           -dt⋅v⋅sin(psie) + ye            ⎤\n",
       "⎢                                           ⎥\n",
       "⎢          ⎛k⋅v⋅cos(psie)    ⎞              ⎥\n",
       "⎢       dt⋅⎜───────────── + w⎟ + psie       ⎥\n",
       "⎢          ⎝  -k⋅ye + 1      ⎠              ⎥\n",
       "⎢                                           ⎥\n",
       "⎢   ⎛                       Cs    ⎞  -Ts    ⎥\n",
       "⎢dt⋅⎝v⋅(-μ_s + u_steering)⋅ℯ   - w⎠⋅ℯ    + w⎥\n",
       "⎢                                           ⎥\n",
       "⎢      ⎛                Cv    ⎞  -Tv        ⎥\n",
       "⎢   dt⋅⎝u_acceleration⋅ℯ   - v⎠⋅ℯ    + v    ⎥\n",
       "⎢                                           ⎥\n",
       "⎢                     k                     ⎥\n",
       "⎢                                           ⎥\n",
       "⎢                    Cv                     ⎥\n",
       "⎢                                           ⎥\n",
       "⎢                    Tv                     ⎥\n",
       "⎢                                           ⎥\n",
       "⎢                    Cs                     ⎥\n",
       "⎢                                           ⎥\n",
       "⎢                    Ts                     ⎥\n",
       "⎢                                           ⎥\n",
       "⎢                    μ_s                    ⎥\n",
       "⎢                                           ⎥\n",
       "⎢                    μ_g                    ⎥\n",
       "⎢                                           ⎥\n",
       "⎢                    μₐₓ                    ⎥\n",
       "⎢                                           ⎥\n",
       "⎣                   μ_ay                    ⎦"
      ]
     },
     "execution_count": 236,
     "metadata": {},
     "output_type": "execute_result"
    }
   ],
   "source": [
    "# dynamic state variables f(x)\n",
    "# the clipped traction limit is an argument for a UKF here unless we use tanh or something\n",
    "\n",
    "eCv, eTv, eCs, eTs = sp.exp(Cv), sp.exp(Tv), sp.exp(Cs), sp.exp(Ts)\n",
    "fx = sp.Matrix([\n",
    "        [ye - dt*v * sp.sin(psie),\n",
    "         psie + dt*(w + v * k * sp.cos(psie) / (1 - k * ye)),\n",
    "         w + dt*(v*eCs*(u_steering - mu_s) - w) / eTs,  # fixme: this should be clipped at some traction limit\n",
    "         v + dt*(eCv * u_acceleration - v) / eTv,\n",
    "         k, Cv, Tv, Cs, Ts, mu_s, mu_g, mu_ax, mu_ay\n",
    "        ]])\n",
    "fx.T\n",
    "\n"
   ]
  },
  {
   "cell_type": "code",
   "execution_count": 237,
   "metadata": {
    "collapsed": false
   },
   "outputs": [
    {
     "data": {
      "text/latex": [
       "$$\\left[\\begin{array}{ccccccccccccc}1 & - dt v \\cos{\\left (psie \\right )} & 0 & - dt \\sin{\\left (psie \\right )} & 0 & 0 & 0 & 0 & 0 & 0 & 0 & 0 & 0\\\\\\frac{dt k^{2} v \\cos{\\left (psie \\right )}}{\\left(k ye - 1\\right)^{2}} & \\frac{1}{k ye - 1} \\left(dt k v \\sin{\\left (psie \\right )} + k ye - 1\\right) & dt & - \\frac{dt k \\cos{\\left (psie \\right )}}{k ye - 1} & \\frac{dt v \\cos{\\left (psie \\right )}}{\\left(k ye - 1\\right)^{2}} & 0 & 0 & 0 & 0 & 0 & 0 & 0 & 0\\\\0 & 0 & - dt e^{- Ts} + 1 & - dt \\left(\\mu_{s} - u_{steering}\\right) e^{Cs - Ts} & 0 & 0 & 0 & - dt v \\left(\\mu_{s} - u_{steering}\\right) e^{Cs - Ts} & dt \\left(v \\left(\\mu_{s} - u_{steering}\\right) e^{Cs} + w\\right) e^{- Ts} & - dt v e^{Cs - Ts} & 0 & 0 & 0\\\\0 & 0 & 0 & - dt e^{- Tv} + 1 & 0 & dt u_{acceleration} e^{Cv - Tv} & dt \\left(- u_{acceleration} e^{Cv} + v\\right) e^{- Tv} & 0 & 0 & 0 & 0 & 0 & 0\\\\0 & 0 & 0 & 0 & 1 & 0 & 0 & 0 & 0 & 0 & 0 & 0 & 0\\\\0 & 0 & 0 & 0 & 0 & 1 & 0 & 0 & 0 & 0 & 0 & 0 & 0\\\\0 & 0 & 0 & 0 & 0 & 0 & 1 & 0 & 0 & 0 & 0 & 0 & 0\\\\0 & 0 & 0 & 0 & 0 & 0 & 0 & 1 & 0 & 0 & 0 & 0 & 0\\\\0 & 0 & 0 & 0 & 0 & 0 & 0 & 0 & 1 & 0 & 0 & 0 & 0\\\\0 & 0 & 0 & 0 & 0 & 0 & 0 & 0 & 0 & 1 & 0 & 0 & 0\\\\0 & 0 & 0 & 0 & 0 & 0 & 0 & 0 & 0 & 0 & 1 & 0 & 0\\\\0 & 0 & 0 & 0 & 0 & 0 & 0 & 0 & 0 & 0 & 0 & 1 & 0\\\\0 & 0 & 0 & 0 & 0 & 0 & 0 & 0 & 0 & 0 & 0 & 0 & 1\\end{array}\\right]$$"
      ],
      "text/plain": [
       "⎡        1                -dt⋅v⋅cos(psie)              0                 -dt⋅s\n",
       "⎢                                                                             \n",
       "⎢    2                                                                        \n",
       "⎢dt⋅k ⋅v⋅cos(psie)  dt⋅k⋅v⋅sin(psie) + k⋅ye - 1                        -dt⋅k⋅c\n",
       "⎢─────────────────  ───────────────────────────       dt               ───────\n",
       "⎢             2               k⋅ye - 1                                     k⋅y\n",
       "⎢   (k⋅ye - 1)                                                                \n",
       "⎢                                                                             \n",
       "⎢                                                      -Ts                    \n",
       "⎢        0                       0               - dt⋅ℯ    + 1  -dt⋅(μ_s - u_s\n",
       "⎢                                                                             \n",
       "⎢                                                                             \n",
       "⎢        0                       0                     0                 - dt⋅\n",
       "⎢                                                                             \n",
       "⎢        0                       0                     0                      \n",
       "⎢                                                                             \n",
       "⎢        0                       0                     0                      \n",
       "⎢                                                                             \n",
       "⎢        0                       0                     0                      \n",
       "⎢                                                                             \n",
       "⎢        0                       0                     0                      \n",
       "⎢                                                                             \n",
       "⎢        0                       0                     0                      \n",
       "⎢                                                                             \n",
       "⎢        0                       0                     0                      \n",
       "⎢                                                                             \n",
       "⎢        0                       0                     0                      \n",
       "⎢                                                                             \n",
       "⎢        0                       0                     0                      \n",
       "⎢                                                                             \n",
       "⎣        0                       0                     0                      \n",
       "\n",
       "in(psie)                 0                     0                              \n",
       "                                                                              \n",
       "                                                                              \n",
       "os(psie)           dt⋅v⋅cos(psie)                                             \n",
       "─────────          ──────────────              0                              \n",
       "e - 1                         2                                               \n",
       "                    (k⋅ye - 1)                                                \n",
       "                                                                              \n",
       "          Cs - Ts                                                             \n",
       "teering)⋅ℯ               0                     0                              \n",
       "                                                                              \n",
       " -Tv                                                  Cv - Tv     ⎛           \n",
       "ℯ    + 1                 0         dt⋅u_acceleration⋅ℯ         dt⋅⎝- u_acceler\n",
       "                                                                              \n",
       " 0                       1                     0                              \n",
       "                                                                              \n",
       " 0                       0                     1                              \n",
       "                                                                              \n",
       " 0                       0                     0                              \n",
       "                                                                              \n",
       " 0                       0                     0                              \n",
       "                                                                              \n",
       " 0                       0                     0                              \n",
       "                                                                              \n",
       " 0                       0                     0                              \n",
       "                                                                              \n",
       " 0                       0                     0                              \n",
       "                                                                              \n",
       " 0                       0                     0                              \n",
       "                                                                              \n",
       " 0                       0                     0                              \n",
       "\n",
       " 0                                   0                                    0   \n",
       "                                                                              \n",
       "                                                                              \n",
       "                                                                              \n",
       " 0                                   0                                    0   \n",
       "                                                                              \n",
       "                                                                              \n",
       "                                                                              \n",
       "                                               Cs - Ts     ⎛                  \n",
       " 0                   -dt⋅v⋅(μ_s - u_steering)⋅ℯ         dt⋅⎝v⋅(μ_s - u_steerin\n",
       "                                                                              \n",
       "       Cv    ⎞  -Tv                                                           \n",
       "ation⋅ℯ   + v⎠⋅ℯ                     0                                    0   \n",
       "                                                                              \n",
       " 0                                   0                                    0   \n",
       "                                                                              \n",
       " 0                                   0                                    0   \n",
       "                                                                              \n",
       " 1                                   0                                    0   \n",
       "                                                                              \n",
       " 0                                   1                                    0   \n",
       "                                                                              \n",
       " 0                                   0                                    1   \n",
       "                                                                              \n",
       " 0                                   0                                    0   \n",
       "                                                                              \n",
       " 0                                   0                                    0   \n",
       "                                                                              \n",
       " 0                                   0                                    0   \n",
       "                                                                              \n",
       " 0                                   0                                    0   \n",
       "\n",
       "                        0         0  0  0⎤\n",
       "                                         ⎥\n",
       "                                         ⎥\n",
       "                                         ⎥\n",
       "                        0         0  0  0⎥\n",
       "                                         ⎥\n",
       "                                         ⎥\n",
       "                                         ⎥\n",
       "    Cs    ⎞  -Ts         Cs - Ts         ⎥\n",
       "g)⋅ℯ   + w⎠⋅ℯ     -dt⋅v⋅ℯ         0  0  0⎥\n",
       "                                         ⎥\n",
       "                                         ⎥\n",
       "                        0         0  0  0⎥\n",
       "                                         ⎥\n",
       "                        0         0  0  0⎥\n",
       "                                         ⎥\n",
       "                        0         0  0  0⎥\n",
       "                                         ⎥\n",
       "                        0         0  0  0⎥\n",
       "                                         ⎥\n",
       "                        0         0  0  0⎥\n",
       "                                         ⎥\n",
       "                        0         0  0  0⎥\n",
       "                                         ⎥\n",
       "                        1         0  0  0⎥\n",
       "                                         ⎥\n",
       "                        0         1  0  0⎥\n",
       "                                         ⎥\n",
       "                        0         0  1  0⎥\n",
       "                                         ⎥\n",
       "                        0         0  0  1⎦"
      ]
     },
     "execution_count": 237,
     "metadata": {},
     "output_type": "execute_result"
    }
   ],
   "source": [
    "Fx = sp.simplify(sp.Matrix([sp.diff(fx, Xj) for Xj in X]).T)\n",
    "Fx"
   ]
  },
  {
   "cell_type": "code",
   "execution_count": 238,
   "metadata": {
    "collapsed": false
   },
   "outputs": [
    {
     "name": "stdout",
     "output_type": "stream",
     "text": [
      "dt = Symbol('dt')\n",
      "v = Symbol('v')\n",
      "psie = Symbol('psie')\n",
      "k = Symbol('k')\n",
      "ye = Symbol('ye')\n",
      "Ts = Symbol('Ts')\n",
      "mu_s = Symbol('mu_s')\n",
      "u_steering = Symbol('u_steering')\n",
      "Cs = Symbol('Cs')\n",
      "w = Symbol('w')\n",
      "Tv = Symbol('Tv')\n",
      "u_acceleration = Symbol('u_acceleration')\n",
      "Cv = Symbol('Cv')\n",
      "e = ImmutableMatrix([[1, -dt*v*cos(psie), 0, -dt*sin(psie), 0, 0, 0, 0, 0, 0, 0, 0, 0], [dt*k**2*v*cos(psie)/(k*ye - 1)**2, (dt*k*v*sin(psie) + k*ye - 1)/(k*ye - 1), dt, -dt*k*cos(psie)/(k*ye - 1), dt*v*cos(psie)/(k*ye - 1)**2, 0, 0, 0, 0, 0, 0, 0, 0], [0, 0, -dt*exp(-Ts) + 1, -dt*(mu_s - u_steering)*exp(Cs - Ts), 0, 0, 0, -dt*v*(mu_s - u_steering)*exp(Cs - Ts), dt*(v*(mu_s - u_steering)*exp(Cs) + w)*exp(-Ts), -dt*v*exp(Cs - Ts), 0, 0, 0], [0, 0, 0, -dt*exp(-Tv) + 1, 0, dt*u_acceleration*exp(Cv - Tv), dt*(-u_acceleration*exp(Cv) + v)*exp(-Tv), 0, 0, 0, 0, 0, 0], [0, 0, 0, 0, 1, 0, 0, 0, 0, 0, 0, 0, 0], [0, 0, 0, 0, 0, 1, 0, 0, 0, 0, 0, 0, 0], [0, 0, 0, 0, 0, 0, 1, 0, 0, 0, 0, 0, 0], [0, 0, 0, 0, 0, 0, 0, 1, 0, 0, 0, 0, 0], [0, 0, 0, 0, 0, 0, 0, 0, 1, 0, 0, 0, 0], [0, 0, 0, 0, 0, 0, 0, 0, 0, 1, 0, 0, 0], [0, 0, 0, 0, 0, 0, 0, 0, 0, 0, 1, 0, 0], [0, 0, 0, 0, 0, 0, 0, 0, 0, 0, 0, 1, 0], [0, 0, 0, 0, 0, 0, 0, 0, 0, 0, 0, 0, 1]])\n"
     ]
    }
   ],
   "source": [
    "sp.print_python(Fx)"
   ]
  },
  {
   "cell_type": "code",
   "execution_count": 225,
   "metadata": {
    "collapsed": false
   },
   "outputs": [
    {
     "data": {
      "text/latex": [
       "$$\\left[\\begin{matrix}\\frac{ye}{\\cos{\\left (psie \\right )}}\\\\\\tan{\\left (psie \\right )}\\end{matrix}\\right]$$"
      ],
      "text/plain": [
       "⎡    ye   ⎤\n",
       "⎢─────────⎥\n",
       "⎢cos(psie)⎥\n",
       "⎢         ⎥\n",
       "⎣tan(psie)⎦"
      ]
     },
     "execution_count": 225,
     "metadata": {},
     "output_type": "execute_result"
    }
   ],
   "source": [
    "# h\n",
    "hx = sp.Matrix([[ye / sp.cos(psie), sp.tan(psie)]])  # measuring b, m\n",
    "hx.T"
   ]
  },
  {
   "cell_type": "code",
   "execution_count": 226,
   "metadata": {
    "collapsed": false
   },
   "outputs": [
    {
     "name": "stdout",
     "output_type": "stream",
     "text": [
      "psie = Symbol('psie')\n",
      "ye = Symbol('ye')\n",
      "e = ImmutableMatrix([[1/cos(psie), ye*sin(psie)/cos(psie)**2, 0, 0, 0, 0, 0, 0, 0, 0, 0, 0, 0], [0, cos(psie)**(-2), 0, 0, 0, 0, 0, 0, 0, 0, 0, 0, 0]])\n"
     ]
    },
    {
     "data": {
      "text/latex": [
       "$$\\left[\\begin{array}{ccccccccccccc}\\frac{1}{\\cos{\\left (psie \\right )}} & \\frac{ye \\sin{\\left (psie \\right )}}{\\cos^{2}{\\left (psie \\right )}} & 0 & 0 & 0 & 0 & 0 & 0 & 0 & 0 & 0 & 0 & 0\\\\0 & \\frac{1}{\\cos^{2}{\\left (psie \\right )}} & 0 & 0 & 0 & 0 & 0 & 0 & 0 & 0 & 0 & 0 & 0\\end{array}\\right]$$"
      ],
      "text/plain": [
       "⎡    1      ye⋅sin(psie)                                 ⎤\n",
       "⎢─────────  ────────────  0  0  0  0  0  0  0  0  0  0  0⎥\n",
       "⎢cos(psie)      2                                        ⎥\n",
       "⎢            cos (psie)                                  ⎥\n",
       "⎢                                                        ⎥\n",
       "⎢                1                                       ⎥\n",
       "⎢    0       ──────────   0  0  0  0  0  0  0  0  0  0  0⎥\n",
       "⎢               2                                        ⎥\n",
       "⎣            cos (psie)                                  ⎦"
      ]
     },
     "execution_count": 226,
     "metadata": {},
     "output_type": "execute_result"
    }
   ],
   "source": [
    "# H\n",
    "Hx = sp.simplify(sp.Matrix([sp.diff(hx, Xj) for Xj in X]).T)\n",
    "sp.print_python(Hx.subs([(psie, \"psie\"), (ye, \"ye\")]))\n",
    "Hx"
   ]
  },
  {
   "cell_type": "code",
   "execution_count": null,
   "metadata": {
    "collapsed": false
   },
   "outputs": [],
   "source": []
  },
  {
   "cell_type": "code",
   "execution_count": 177,
   "metadata": {
    "collapsed": false
   },
   "outputs": [
    {
     "data": {
      "text/latex": [
       "$$\\left[\\begin{array}{ccccccccccccc}y_{e} & \\psi_e & \\omega & v & \\kappa & C_{v} & T_{v} & C_{s} & T_{s} & \\mu_\\delta & \\mu_g & \\mu_{a_x} & \\mu_{a_y}\\end{array}\\right]$$"
      ],
      "text/plain": [
       "[yₑ  \\psiₑ  \\omega  v  \\kappa  Cᵥ  Tᵥ  C_s  T_s  \\mu_\\delta  \\mu_g  \\mu_{a_x} \n",
       " \\mu_{a_y}]"
      ]
     },
     "execution_count": 177,
     "metadata": {},
     "output_type": "execute_result"
    }
   ],
   "source": [
    "X"
   ]
  },
  {
   "cell_type": "code",
   "execution_count": 230,
   "metadata": {
    "collapsed": false
   },
   "outputs": [
    {
     "data": {
      "text/latex": [
       "$$\\left[\\begin{matrix}\\mu_{g} + w\\\\\\mu_{ax} + v w\\\\\\mu_{ay} + \\left(- u_{acceleration} e^{Cv} + v\\right) e^{- Tv}\\end{matrix}\\right]$$"
      ],
      "text/plain": [
       "⎡               μ_g + w                ⎤\n",
       "⎢                                      ⎥\n",
       "⎢              μₐₓ + v⋅w               ⎥\n",
       "⎢                                      ⎥\n",
       "⎢       ⎛                  Cv    ⎞  -Tv⎥\n",
       "⎣μ_ay + ⎝- u_acceleration⋅ℯ   + v⎠⋅ℯ   ⎦"
      ]
     },
     "execution_count": 230,
     "metadata": {},
     "output_type": "execute_result"
    }
   ],
   "source": [
    "# measure gyro_z, accel_x, accel_y\n",
    "h_imu = sp.Matrix([[\n",
    "            w + mu_g,\n",
    "            v*w + mu_ax,\n",
    "            -(sp.exp(Cv) * u_acceleration - v) / sp.exp(Tv) + mu_ay,\n",
    "        ]])\n",
    "h_imu.T"
   ]
  },
  {
   "cell_type": "code",
   "execution_count": 231,
   "metadata": {
    "collapsed": false
   },
   "outputs": [
    {
     "data": {
      "text/latex": [
       "$$\\left[\\begin{array}{ccccccccccccc}0 & 0 & 1 & 0 & 0 & 0 & 0 & 0 & 0 & 0 & 1 & 0 & 0\\\\0 & 0 & v & w & 0 & 0 & 0 & 0 & 0 & 0 & 0 & 1 & 0\\\\0 & 0 & 0 & e^{- Tv} & 0 & - u_{acceleration} e^{Cv - Tv} & \\left(u_{acceleration} e^{Cv} - v\\right) e^{- Tv} & 0 & 0 & 0 & 0 & 0 & 1\\end{array}\\right]$$"
      ],
      "text/plain": [
       "⎡0  0  1   0    0             0                            0                0 \n",
       "⎢                                                                             \n",
       "⎢0  0  v   w    0             0                            0                0 \n",
       "⎢                                                                             \n",
       "⎢          -Tv                      Cv - Tv  ⎛                Cv    ⎞  -Tv    \n",
       "⎣0  0  0  ℯ     0  -u_acceleration⋅ℯ         ⎝u_acceleration⋅ℯ   - v⎠⋅ℯ     0 \n",
       "\n",
       " 0  0  1  0  0⎤\n",
       "              ⎥\n",
       " 0  0  0  1  0⎥\n",
       "              ⎥\n",
       "              ⎥\n",
       " 0  0  0  0  1⎦"
      ]
     },
     "execution_count": 231,
     "metadata": {},
     "output_type": "execute_result"
    }
   ],
   "source": [
    "H_imu = sp.simplify(sp.Matrix([sp.diff(h_imu, Xj) for Xj in X]).T)\n",
    "H_imu"
   ]
  },
  {
   "cell_type": "code",
   "execution_count": 232,
   "metadata": {
    "collapsed": false
   },
   "outputs": [
    {
     "name": "stdout",
     "output_type": "stream",
     "text": [
      "v = Symbol('v')\n",
      "w = Symbol('w')\n",
      "Tv = Symbol('Tv')\n",
      "u_acceleration = Symbol('u_acceleration')\n",
      "Cv = Symbol('Cv')\n",
      "e = ImmutableMatrix([[0, 0, 1, 0, 0, 0, 0, 0, 0, 0, 1, 0, 0], [0, 0, v, w, 0, 0, 0, 0, 0, 0, 0, 1, 0], [0, 0, 0, exp(-Tv), 0, -u_acceleration*exp(Cv - Tv), (u_acceleration*exp(Cv) - v)*exp(-Tv), 0, 0, 0, 0, 0, 1]])\n"
     ]
    }
   ],
   "source": [
    "sp.print_python(H_imu)"
   ]
  },
  {
   "cell_type": "code",
   "execution_count": null,
   "metadata": {
    "collapsed": true
   },
   "outputs": [],
   "source": []
  }
 ],
 "metadata": {
  "kernelspec": {
   "display_name": "Python 2",
   "language": "python",
   "name": "python2"
  },
  "language_info": {
   "codemirror_mode": {
    "name": "ipython",
    "version": 2
   },
   "file_extension": ".py",
   "mimetype": "text/x-python",
   "name": "python",
   "nbconvert_exporter": "python",
   "pygments_lexer": "ipython2",
   "version": "2.7.10"
  }
 },
 "nbformat": 4,
 "nbformat_minor": 0
}
